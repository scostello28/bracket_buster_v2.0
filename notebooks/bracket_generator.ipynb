{
 "cells": [
  {
   "cell_type": "code",
   "execution_count": 14,
   "metadata": {},
   "outputs": [],
   "source": [
    "from random import randint"
   ]
  },
  {
   "cell_type": "code",
   "execution_count": 45,
   "metadata": {},
   "outputs": [],
   "source": [
    "bracket_2021 = [\n",
    "    # WEST\n",
    "    'gonzaga',\n",
    "    'norfolk-state',\n",
    "    'oklahoma',\n",
    "    'missouri',\n",
    "    'creighton',\n",
    "    'california-santa-barbara',\n",
    "    'virginia',\n",
    "    'ohio',\n",
    "    'southern-california', \n",
    "    'drake',\n",
    "    'kansas',\n",
    "    'eastern-washington',\n",
    "    'oregon',\n",
    "    'virginia-commonwealth', \n",
    "    'iowa',\n",
    "    'grand-canyon',\n",
    "    # EAST\n",
    "    'michigan',\n",
    "    'texas-southern', \n",
    "    'louisiana-state',\n",
    "    'st-bonaventure',\n",
    "    'colorado',\n",
    "    'georgetown',\n",
    "    'florida-state',\n",
    "    'north-carolina-greensboro',\n",
    "    'brigham-young',\n",
    "    'michigan-state', # Update\n",
    "    'texas',\n",
    "    'abilene-christian',\n",
    "    'connecticut',\n",
    "    'maryland',\n",
    "    'alabama',\n",
    "    'iona',\n",
    "    # SOUTH\n",
    "    'baylor',\n",
    "    'hartford',\n",
    "    'north-carolina',\n",
    "    'wisconsin',\n",
    "    'villanova',\n",
    "    'winthrop',\n",
    "    'purdue',\n",
    "    'north-texas',\n",
    "    'texas-tech',\n",
    "    'utah-state',\n",
    "    'arkansas',\n",
    "    'colgate',\n",
    "    'florida',\n",
    "    'virginia-tech',\n",
    "    'ohio-state', \n",
    "    'oral-roberts',\n",
    "    # MIDWEST\n",
    "    'illinois',\n",
    "    'drexel',\n",
    "    'loyola-il', \n",
    "    'georgia-tech',\n",
    "    'tennessee',\n",
    "    'oregon-state',\n",
    "    'oklahoma-state',\n",
    "    'liberty',\n",
    "    'san-diego-state',\n",
    "    'syracuse',\n",
    "    'west-virginia',\n",
    "    'morehead-state',\n",
    "    'clemson',\n",
    "    'rutgers',\n",
    "    'houston',\n",
    "    'cleveland-state'\n",
    "]"
   ]
  },
  {
   "cell_type": "code",
   "execution_count": 3,
   "metadata": {},
   "outputs": [
    {
     "data": {
      "text/plain": [
       "64"
      ]
     },
     "execution_count": 3,
     "metadata": {},
     "output_type": "execute_result"
    }
   ],
   "source": [
    "len(bracket_2021)"
   ]
  },
  {
   "cell_type": "code",
   "execution_count": 15,
   "metadata": {},
   "outputs": [
    {
     "data": {
      "text/plain": [
       "0"
      ]
     },
     "execution_count": 15,
     "metadata": {},
     "output_type": "execute_result"
    }
   ],
   "source": [
    "randint(0,1)"
   ]
  },
  {
   "cell_type": "code",
   "execution_count": 35,
   "metadata": {},
   "outputs": [],
   "source": [
    "class BracketGen:\n",
    "    \n",
    "    def __init__(self, bracket):\n",
    "        self.first_round = bracket\n",
    "        self.second_round = None\n",
    "        self.sweet16 = None\n",
    "        self.elite8 = None\n",
    "        self.final4 = None\n",
    "        self.championship = None\n",
    "        self.champion = None\n",
    "    \n",
    "    @staticmethod\n",
    "    def _pick_winner(team1, team2):\n",
    "        matchup = [team1, team2]\n",
    "        winner = matchup[randint(0,1)]\n",
    "        return winner\n",
    "    \n",
    "    @staticmethod\n",
    "    def _pick_round(round_list):\n",
    "        next_round = []\n",
    "        i = 0\n",
    "        while i <= len(round_list)-2:\n",
    "            team1, team2 = round_list[i], round_list[i+1]\n",
    "            winner = BracketGen._pick_winner(team1, team2)\n",
    "#             print(f\"{team1} v {team2} - {winner} wins\")\n",
    "            next_round.append(winner)\n",
    "            i += 2\n",
    "        return next_round\n",
    "    \n",
    "    def gen_bracket(self, verbose=True):\n",
    "        self.second_round = BracketGen._pick_round(self.first_round)\n",
    "        self.sweet16 = BracketGen._pick_round(self.second_round)\n",
    "        self.elite8 = BracketGen._pick_round(self.sweet16)\n",
    "        self.final4 = BracketGen._pick_round(self.elite8)\n",
    "        self.championship = BracketGen._pick_round(self.final4)\n",
    "        self.champion = BracketGen._pick_round(self.championship)\n",
    "    \n",
    "        if verbose:\n",
    "            print(f\"First_round: {self.first_round}\")\n",
    "            print(\"\\n\")\n",
    "            print(f\"Second_round: {self.second_round}\")\n",
    "            print(\"\\n\")\n",
    "            print(f\"Sweet16: {self.sweet16}\")\n",
    "            print(\"\\n\")\n",
    "            print(f\"Elite8: {self.elite8}\")\n",
    "            print(\"\\n\")\n",
    "            print(f\"Final4: {self.final4}\")\n",
    "            print(\"\\n\")\n",
    "            print(f\"Championship: {self.championship}\")\n",
    "            print(\"\\n\")\n",
    "            print(f\"Champion: {self.champion}\")\n",
    "    "
   ]
  },
  {
   "cell_type": "code",
   "execution_count": 36,
   "metadata": {},
   "outputs": [
    {
     "name": "stdout",
     "output_type": "stream",
     "text": [
      "First_round: ['gonzaga', 'TBD', 'oklahoma', 'missouri', 'creighton', 'ucsb', 'virginia', 'ohio', 'usc', 'TBD', 'kansas', 'eastern-washington', 'oregon', 'virginia-commonwealth', 'iowa', 'grand-canyon', 'michigan', 'TBD', 'LSU', 'st-bonaventure', 'colorado', 'georgetown', 'florida-st', 'north-carolina-greensboro', 'brigham-young', 'TBD', 'texas', 'abilene-christian', 'connecticut', 'maryland', 'alabama', 'iona', 'baylor', 'hartford', 'north-carolina', 'wisconsin', 'villanova', 'winthrop', 'purdue', 'north-texas', 'texas-tech', 'utah-state', 'arkansas', 'colgate', 'florida', 'virginia-tech', 'ohio-state', 'oral-roberts', 'illinois', 'drexel', 'loyola-chicago', 'georgia-tech', 'tennessee', 'oregon-state', 'oklahoma-state', 'liberty', 'san-diego-state', 'syracuse', 'west-virginia', 'morehead-state', 'clemson', 'rutgers', 'houston', 'cleveland-state']\n",
      "\n",
      "\n",
      "Second_round: ['gonzaga', 'oklahoma', 'ucsb', 'ohio', 'usc', 'eastern-washington', 'virginia-commonwealth', 'iowa', 'TBD', 'st-bonaventure', 'colorado', 'north-carolina-greensboro', 'brigham-young', 'texas', 'maryland', 'iona', 'baylor', 'north-carolina', 'villanova', 'purdue', 'texas-tech', 'arkansas', 'virginia-tech', 'oral-roberts', 'illinois', 'loyola-chicago', 'oregon-state', 'oklahoma-state', 'syracuse', 'west-virginia', 'clemson', 'houston']\n",
      "\n",
      "\n",
      "Sweet16: ['gonzaga', 'ucsb', 'usc', 'iowa', 'st-bonaventure', 'colorado', 'brigham-young', 'iona', 'baylor', 'purdue', 'arkansas', 'virginia-tech', 'loyola-chicago', 'oklahoma-state', 'syracuse', 'clemson']\n",
      "\n",
      "\n",
      "Elite8: ['ucsb', 'usc', 'colorado', 'iona', 'purdue', 'virginia-tech', 'loyola-chicago', 'clemson']\n",
      "\n",
      "\n",
      "Final4: ['usc', 'iona', 'purdue', 'loyola-chicago']\n",
      "\n",
      "\n",
      "Championship: ['usc', 'purdue']\n",
      "\n",
      "\n",
      "Champion: ['usc']\n"
     ]
    }
   ],
   "source": [
    "b = BracketGen(bracket_2021)\n",
    "b.gen_bracket()"
   ]
  },
  {
   "cell_type": "code",
   "execution_count": null,
   "metadata": {},
   "outputs": [],
   "source": []
  },
  {
   "cell_type": "code",
   "execution_count": 17,
   "metadata": {},
   "outputs": [],
   "source": [
    "def pick_winner(team1, team2):\n",
    "    matchup = [team1, team2]\n",
    "    winner = matchup[randint(0,1)]\n",
    "    return winner"
   ]
  },
  {
   "cell_type": "code",
   "execution_count": 18,
   "metadata": {},
   "outputs": [
    {
     "name": "stdout",
     "output_type": "stream",
     "text": [
      "gonzaga v TBD - gonzaga wins\n",
      "oklahoma v missouri - missouri wins\n",
      "creighton v ucsb - creighton wins\n",
      "virginia v ohio - virginia wins\n",
      "usc v TBD - usc wins\n",
      "kansas v eastern-washington - eastern-washington wins\n",
      "oregon v virginia-commonwealth - virginia-commonwealth wins\n",
      "iowa v grand-canyon - grand-canyon wins\n",
      "michigan v TBD - michigan wins\n",
      "LSU v st-bonaventure - st-bonaventure wins\n",
      "colorado v georgetown - georgetown wins\n",
      "florida-st v north-carolina-greensboro - florida-st wins\n",
      "brigham-young v TBD - TBD wins\n",
      "texas v abilene-christian - abilene-christian wins\n",
      "connecticut v maryland - maryland wins\n",
      "alabama v iona - iona wins\n",
      "baylor v hartford - hartford wins\n",
      "north-carolina v wisconsin - wisconsin wins\n",
      "villanova v winthrop - villanova wins\n",
      "purdue v north-texas - purdue wins\n",
      "texas-tech v utah-state - utah-state wins\n",
      "arkansas v colgate - colgate wins\n",
      "florida v virginia-tech - virginia-tech wins\n",
      "ohio-state v oral-roberts - ohio-state wins\n",
      "illinois v drexel - illinois wins\n",
      "loyola-chicago v georgia-tech - loyola-chicago wins\n",
      "tennessee v oregon-state - oregon-state wins\n",
      "oklahoma-state v liberty - oklahoma-state wins\n",
      "san-diego-state v syracuse - syracuse wins\n",
      "west-virginia v morehead-state - west-virginia wins\n",
      "clemson v rutgers - clemson wins\n",
      "houston v cleveland-state - cleveland-state wins\n"
     ]
    }
   ],
   "source": [
    "second_round = []\n",
    "i = 0\n",
    "while i <= len(bracket_2021)-2:\n",
    "    team1, team2 = bracket_2021[i], bracket_2021[i+1]\n",
    "    winner = pick_winner(team1, team2)\n",
    "    print(f\"{team1} v {team2} - {winner} wins\")\n",
    "    second_round.append(winner)\n",
    "    i += 2"
   ]
  },
  {
   "cell_type": "code",
   "execution_count": 19,
   "metadata": {},
   "outputs": [
    {
     "data": {
      "text/plain": [
       "['gonzaga',\n",
       " 'missouri',\n",
       " 'creighton',\n",
       " 'virginia',\n",
       " 'usc',\n",
       " 'eastern-washington',\n",
       " 'virginia-commonwealth',\n",
       " 'grand-canyon',\n",
       " 'michigan',\n",
       " 'st-bonaventure',\n",
       " 'georgetown',\n",
       " 'florida-st',\n",
       " 'TBD',\n",
       " 'abilene-christian',\n",
       " 'maryland',\n",
       " 'iona',\n",
       " 'hartford',\n",
       " 'wisconsin',\n",
       " 'villanova',\n",
       " 'purdue',\n",
       " 'utah-state',\n",
       " 'colgate',\n",
       " 'virginia-tech',\n",
       " 'ohio-state',\n",
       " 'illinois',\n",
       " 'loyola-chicago',\n",
       " 'oregon-state',\n",
       " 'oklahoma-state',\n",
       " 'syracuse',\n",
       " 'west-virginia',\n",
       " 'clemson',\n",
       " 'cleveland-state']"
      ]
     },
     "execution_count": 19,
     "metadata": {},
     "output_type": "execute_result"
    }
   ],
   "source": [
    "second_round"
   ]
  },
  {
   "cell_type": "code",
   "execution_count": 46,
   "metadata": {},
   "outputs": [
    {
     "name": "stdout",
     "output_type": "stream",
     "text": [
      "['gonzaga', 'norfolk-state']\n",
      "['oklahoma', 'missouri']\n",
      "['creighton', 'california-santa-barbara']\n",
      "['virginia', 'ohio']\n",
      "['southern-california', 'drake']\n",
      "['kansas', 'eastern-washington']\n",
      "['oregon', 'virginia-commonwealth']\n",
      "['iowa', 'grand-canyon']\n",
      "['michigan', 'texas-southern']\n",
      "['louisiana-state', 'st-bonaventure']\n",
      "['colorado', 'georgetown']\n",
      "['florida-state', 'north-carolina-greensboro']\n",
      "['brigham-young', 'michigan-state']\n",
      "['texas', 'abilene-christian']\n",
      "['connecticut', 'maryland']\n",
      "['alabama', 'iona']\n",
      "['baylor', 'hartford']\n",
      "['north-carolina', 'wisconsin']\n",
      "['villanova', 'winthrop']\n",
      "['purdue', 'north-texas']\n",
      "['texas-tech', 'utah-state']\n",
      "['arkansas', 'colgate']\n",
      "['florida', 'virginia-tech']\n",
      "['ohio-state', 'oral-roberts']\n",
      "['illinois', 'drexel']\n",
      "['loyola-il', 'georgia-tech']\n",
      "['tennessee', 'oregon-state']\n",
      "['oklahoma-state', 'liberty']\n",
      "['san-diego-state', 'syracuse']\n",
      "['west-virginia', 'morehead-state']\n",
      "['clemson', 'rutgers']\n",
      "['houston', 'cleveland-state']\n"
     ]
    }
   ],
   "source": [
    "i=0\n",
    "while i < len(bracket_2021):\n",
    "    print(bracket_2021[i: i+2])\n",
    "    i+=2"
   ]
  },
  {
   "cell_type": "code",
   "execution_count": null,
   "metadata": {},
   "outputs": [],
   "source": []
  }
 ],
 "metadata": {
  "kernelspec": {
   "display_name": "Python 3",
   "language": "python",
   "name": "python3"
  },
  "language_info": {
   "codemirror_mode": {
    "name": "ipython",
    "version": 3
   },
   "file_extension": ".py",
   "mimetype": "text/x-python",
   "name": "python",
   "nbconvert_exporter": "python",
   "pygments_lexer": "ipython3",
   "version": "3.8.3"
  }
 },
 "nbformat": 4,
 "nbformat_minor": 4
}
