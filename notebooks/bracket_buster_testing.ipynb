{
 "cells": [
  {
   "cell_type": "markdown",
   "id": "11cd8e00-15df-4c53-b952-cab143758057",
   "metadata": {},
   "source": [
    "# Bracket Buster Testing"
   ]
  },
  {
   "cell_type": "code",
   "execution_count": 2,
   "id": "ff062806-5559-49c9-b653-2fce4b838720",
   "metadata": {},
   "outputs": [],
   "source": [
    "import pandas as pd"
   ]
  },
  {
   "cell_type": "markdown",
   "id": "bc9b0ef8-c4fb-4c3c-9b30-9ef12aceba5c",
   "metadata": {},
   "source": [
    "## read seasons"
   ]
  },
  {
   "cell_type": "code",
   "execution_count": null,
   "id": "48e18ca2-c87f-464e-b95b-d7ae9cdebbea",
   "metadata": {},
   "outputs": [],
   "source": [
    "def read_seasons(seasons_path):\n",
    "    try:\n",
    "        with open(seasons_path, 'r') as f:\n",
    "            seasons = f.read()\n",
    "    except FileNotFoundError:\n",
    "        print(f'{seasons_path} does not exist' )\n",
    "        raise \n",
    "    \n",
    "    # print(seasons.split('\\n')) \n",
    "    seasons = seasons.split('\\n')\n",
    "    # print(seasons)\n",
    "    \n",
    "    return seasons"
   ]
  },
  {
   "cell_type": "code",
   "execution_count": null,
   "id": "dd57075e-5de2-4c3c-9684-8b3f09d57edf",
   "metadata": {},
   "outputs": [],
   "source": [
    "seasons = read_seasons('seasons_test.txt')"
   ]
  },
  {
   "cell_type": "code",
   "execution_count": null,
   "id": "2761761c-4dd3-4f13-9bf9-1a94d38fee4c",
   "metadata": {},
   "outputs": [],
   "source": [
    "type(seasons)"
   ]
  },
  {
   "cell_type": "code",
   "execution_count": null,
   "id": "4909dd13-47f7-486c-a636-e3f026f9b767",
   "metadata": {},
   "outputs": [],
   "source": [
    "seasons"
   ]
  },
  {
   "cell_type": "markdown",
   "id": "d5f04823-333e-4880-b899-ee8cb4a44b81",
   "metadata": {},
   "source": [
    "## chicago-state Error"
   ]
  },
  {
   "cell_type": "code",
   "execution_count": 6,
   "id": "bdca97fb-b794-489f-aa02-c9ed5c95a00a",
   "metadata": {},
   "outputs": [],
   "source": [
    "season = 2023\n",
    "team = 'chicago-state'\n",
    "url = 'https://www.sports-reference.com/cbb/schools/{}/{}.html#per_poss'.format(team, season)"
   ]
  },
  {
   "cell_type": "code",
   "execution_count": 8,
   "id": "58662cde-7013-4747-a343-068e7b63692c",
   "metadata": {},
   "outputs": [
    {
     "data": {
      "text/plain": [
       "'https://www.sports-reference.com/cbb/schools/chicago-state/2023.html#per_poss'"
      ]
     },
     "execution_count": 8,
     "metadata": {},
     "output_type": "execute_result"
    }
   ],
   "source": [
    "url"
   ]
  },
  {
   "cell_type": "code",
   "execution_count": 10,
   "id": "b9d936e3-c5a6-42c2-94bc-3667ddc85fad",
   "metadata": {},
   "outputs": [
    {
     "data": {
      "text/plain": [
       "'https://www.sports-reference.com/cbb/schools/chattanooga/2023.html#per_poss'"
      ]
     },
     "execution_count": 10,
     "metadata": {},
     "output_type": "execute_result"
    }
   ],
   "source": [
    "prev_team = 'chattanooga'\n",
    "prev_url = 'https://www.sports-reference.com/cbb/schools/{}/{}.html#per_poss'.format(prev_team, season)\n",
    "prev_url"
   ]
  },
  {
   "cell_type": "code",
   "execution_count": 11,
   "id": "77409936-dc37-42a0-a764-6cd4d53dd622",
   "metadata": {},
   "outputs": [],
   "source": [
    "prev_df = pd.read_html(prev_url)[11]"
   ]
  },
  {
   "cell_type": "code",
   "execution_count": 12,
   "id": "7c18b452-5ee3-4a7a-80e3-7c58daeedd75",
   "metadata": {},
   "outputs": [
    {
     "data": {
      "text/html": [
       "<div>\n",
       "<style scoped>\n",
       "    .dataframe tbody tr th:only-of-type {\n",
       "        vertical-align: middle;\n",
       "    }\n",
       "\n",
       "    .dataframe tbody tr th {\n",
       "        vertical-align: top;\n",
       "    }\n",
       "\n",
       "    .dataframe thead th {\n",
       "        text-align: right;\n",
       "    }\n",
       "</style>\n",
       "<table border=\"1\" class=\"dataframe\">\n",
       "  <thead>\n",
       "    <tr style=\"text-align: right;\">\n",
       "      <th></th>\n",
       "      <th>Rk</th>\n",
       "      <th>Player</th>\n",
       "      <th>G</th>\n",
       "      <th>GS</th>\n",
       "      <th>MP</th>\n",
       "      <th>FG</th>\n",
       "      <th>FGA</th>\n",
       "      <th>FG%</th>\n",
       "      <th>2P</th>\n",
       "      <th>2PA</th>\n",
       "      <th>...</th>\n",
       "      <th>TRB</th>\n",
       "      <th>AST</th>\n",
       "      <th>STL</th>\n",
       "      <th>BLK</th>\n",
       "      <th>TOV</th>\n",
       "      <th>PF</th>\n",
       "      <th>PTS</th>\n",
       "      <th>Unnamed: 24</th>\n",
       "      <th>ORtg</th>\n",
       "      <th>DRtg</th>\n",
       "    </tr>\n",
       "  </thead>\n",
       "  <tbody>\n",
       "    <tr>\n",
       "      <th>0</th>\n",
       "      <td>1</td>\n",
       "      <td>Jake Stephens</td>\n",
       "      <td>24</td>\n",
       "      <td>24</td>\n",
       "      <td>770</td>\n",
       "      <td>13.6</td>\n",
       "      <td>24.7</td>\n",
       "      <td>0.552</td>\n",
       "      <td>9.8</td>\n",
       "      <td>15.3</td>\n",
       "      <td>...</td>\n",
       "      <td>17.6</td>\n",
       "      <td>6.2</td>\n",
       "      <td>1.7</td>\n",
       "      <td>4.0</td>\n",
       "      <td>5.1</td>\n",
       "      <td>2.9</td>\n",
       "      <td>39.7</td>\n",
       "      <td>NaN</td>\n",
       "      <td>127.0</td>\n",
       "      <td>98.3</td>\n",
       "    </tr>\n",
       "    <tr>\n",
       "      <th>1</th>\n",
       "      <td>2</td>\n",
       "      <td>Jamal Johnson</td>\n",
       "      <td>35</td>\n",
       "      <td>35</td>\n",
       "      <td>1042</td>\n",
       "      <td>8.2</td>\n",
       "      <td>19.1</td>\n",
       "      <td>0.433</td>\n",
       "      <td>3.1</td>\n",
       "      <td>6.2</td>\n",
       "      <td>...</td>\n",
       "      <td>8.5</td>\n",
       "      <td>2.4</td>\n",
       "      <td>2.0</td>\n",
       "      <td>0.7</td>\n",
       "      <td>2.9</td>\n",
       "      <td>3.8</td>\n",
       "      <td>27.0</td>\n",
       "      <td>NaN</td>\n",
       "      <td>117.5</td>\n",
       "      <td>106.2</td>\n",
       "    </tr>\n",
       "    <tr>\n",
       "      <th>2</th>\n",
       "      <td>3</td>\n",
       "      <td>Johnny Taylor</td>\n",
       "      <td>12</td>\n",
       "      <td>0</td>\n",
       "      <td>53</td>\n",
       "      <td>11.0</td>\n",
       "      <td>19.7</td>\n",
       "      <td>0.556</td>\n",
       "      <td>9.9</td>\n",
       "      <td>16.4</td>\n",
       "      <td>...</td>\n",
       "      <td>2.2</td>\n",
       "      <td>1.1</td>\n",
       "      <td>1.1</td>\n",
       "      <td>0.0</td>\n",
       "      <td>3.3</td>\n",
       "      <td>1.1</td>\n",
       "      <td>25.2</td>\n",
       "      <td>NaN</td>\n",
       "      <td>104.2</td>\n",
       "      <td>112.9</td>\n",
       "    </tr>\n",
       "    <tr>\n",
       "      <th>3</th>\n",
       "      <td>4</td>\n",
       "      <td>Ashton Smith</td>\n",
       "      <td>2</td>\n",
       "      <td>0</td>\n",
       "      <td>26</td>\n",
       "      <td>8.9</td>\n",
       "      <td>11.2</td>\n",
       "      <td>0.800</td>\n",
       "      <td>2.2</td>\n",
       "      <td>2.2</td>\n",
       "      <td>...</td>\n",
       "      <td>6.7</td>\n",
       "      <td>11.2</td>\n",
       "      <td>0.0</td>\n",
       "      <td>0.0</td>\n",
       "      <td>0.0</td>\n",
       "      <td>0.0</td>\n",
       "      <td>24.6</td>\n",
       "      <td>NaN</td>\n",
       "      <td>227.1</td>\n",
       "      <td>112.1</td>\n",
       "    </tr>\n",
       "    <tr>\n",
       "      <th>4</th>\n",
       "      <td>5</td>\n",
       "      <td>Sam Alexis</td>\n",
       "      <td>32</td>\n",
       "      <td>0</td>\n",
       "      <td>379</td>\n",
       "      <td>9.5</td>\n",
       "      <td>18.2</td>\n",
       "      <td>0.521</td>\n",
       "      <td>7.7</td>\n",
       "      <td>13.2</td>\n",
       "      <td>...</td>\n",
       "      <td>18.8</td>\n",
       "      <td>4.0</td>\n",
       "      <td>1.2</td>\n",
       "      <td>2.9</td>\n",
       "      <td>4.1</td>\n",
       "      <td>8.0</td>\n",
       "      <td>24.5</td>\n",
       "      <td>NaN</td>\n",
       "      <td>114.9</td>\n",
       "      <td>101.9</td>\n",
       "    </tr>\n",
       "  </tbody>\n",
       "</table>\n",
       "<p>5 rows × 27 columns</p>\n",
       "</div>"
      ],
      "text/plain": [
       "   Rk         Player   G  GS    MP    FG   FGA    FG%   2P   2PA  ...   TRB  \\\n",
       "0   1  Jake Stephens  24  24   770  13.6  24.7  0.552  9.8  15.3  ...  17.6   \n",
       "1   2  Jamal Johnson  35  35  1042   8.2  19.1  0.433  3.1   6.2  ...   8.5   \n",
       "2   3  Johnny Taylor  12   0    53  11.0  19.7  0.556  9.9  16.4  ...   2.2   \n",
       "3   4   Ashton Smith   2   0    26   8.9  11.2  0.800  2.2   2.2  ...   6.7   \n",
       "4   5     Sam Alexis  32   0   379   9.5  18.2  0.521  7.7  13.2  ...  18.8   \n",
       "\n",
       "    AST  STL  BLK  TOV   PF   PTS  Unnamed: 24   ORtg   DRtg  \n",
       "0   6.2  1.7  4.0  5.1  2.9  39.7          NaN  127.0   98.3  \n",
       "1   2.4  2.0  0.7  2.9  3.8  27.0          NaN  117.5  106.2  \n",
       "2   1.1  1.1  0.0  3.3  1.1  25.2          NaN  104.2  112.9  \n",
       "3  11.2  0.0  0.0  0.0  0.0  24.6          NaN  227.1  112.1  \n",
       "4   4.0  1.2  2.9  4.1  8.0  24.5          NaN  114.9  101.9  \n",
       "\n",
       "[5 rows x 27 columns]"
      ]
     },
     "execution_count": 12,
     "metadata": {},
     "output_type": "execute_result"
    }
   ],
   "source": [
    "prev_df.head()"
   ]
  },
  {
   "cell_type": "code",
   "execution_count": 24,
   "id": "ff80742a-cbf2-4889-a03f-bbac246cb420",
   "metadata": {},
   "outputs": [],
   "source": [
    "df = pd.read_html(url)[6]"
   ]
  },
  {
   "cell_type": "code",
   "execution_count": 25,
   "id": "89389a71-efc4-4f72-b5a9-cbdff03452cc",
   "metadata": {},
   "outputs": [
    {
     "data": {
      "text/html": [
       "<div>\n",
       "<style scoped>\n",
       "    .dataframe tbody tr th:only-of-type {\n",
       "        vertical-align: middle;\n",
       "    }\n",
       "\n",
       "    .dataframe tbody tr th {\n",
       "        vertical-align: top;\n",
       "    }\n",
       "\n",
       "    .dataframe thead th {\n",
       "        text-align: right;\n",
       "    }\n",
       "</style>\n",
       "<table border=\"1\" class=\"dataframe\">\n",
       "  <thead>\n",
       "    <tr style=\"text-align: right;\">\n",
       "      <th></th>\n",
       "      <th>Rk</th>\n",
       "      <th>Player</th>\n",
       "      <th>G</th>\n",
       "      <th>GS</th>\n",
       "      <th>MP</th>\n",
       "      <th>FG</th>\n",
       "      <th>FGA</th>\n",
       "      <th>FG%</th>\n",
       "      <th>2P</th>\n",
       "      <th>2PA</th>\n",
       "      <th>...</th>\n",
       "      <th>TRB</th>\n",
       "      <th>AST</th>\n",
       "      <th>STL</th>\n",
       "      <th>BLK</th>\n",
       "      <th>TOV</th>\n",
       "      <th>PF</th>\n",
       "      <th>PTS</th>\n",
       "      <th>Unnamed: 24</th>\n",
       "      <th>ORtg</th>\n",
       "      <th>DRtg</th>\n",
       "    </tr>\n",
       "  </thead>\n",
       "  <tbody>\n",
       "    <tr>\n",
       "      <th>0</th>\n",
       "      <td>1</td>\n",
       "      <td>Wesley Cardet</td>\n",
       "      <td>31</td>\n",
       "      <td>31</td>\n",
       "      <td>1052</td>\n",
       "      <td>9.3</td>\n",
       "      <td>20.6</td>\n",
       "      <td>0.453</td>\n",
       "      <td>7.5</td>\n",
       "      <td>15.3</td>\n",
       "      <td>...</td>\n",
       "      <td>8.9</td>\n",
       "      <td>5.5</td>\n",
       "      <td>1.8</td>\n",
       "      <td>1.1</td>\n",
       "      <td>5.4</td>\n",
       "      <td>4.6</td>\n",
       "      <td>29.4</td>\n",
       "      <td>NaN</td>\n",
       "      <td>112.6</td>\n",
       "      <td>110.6</td>\n",
       "    </tr>\n",
       "    <tr>\n",
       "      <th>1</th>\n",
       "      <td>2</td>\n",
       "      <td>Jahsean Corbett</td>\n",
       "      <td>31</td>\n",
       "      <td>31</td>\n",
       "      <td>1077</td>\n",
       "      <td>9.6</td>\n",
       "      <td>20.6</td>\n",
       "      <td>0.466</td>\n",
       "      <td>7.7</td>\n",
       "      <td>14.6</td>\n",
       "      <td>...</td>\n",
       "      <td>15.2</td>\n",
       "      <td>1.9</td>\n",
       "      <td>1.1</td>\n",
       "      <td>0.7</td>\n",
       "      <td>3.1</td>\n",
       "      <td>3.9</td>\n",
       "      <td>24.4</td>\n",
       "      <td>NaN</td>\n",
       "      <td>109.9</td>\n",
       "      <td>109.3</td>\n",
       "    </tr>\n",
       "    <tr>\n",
       "      <th>2</th>\n",
       "      <td>3</td>\n",
       "      <td>Elijah Weaver</td>\n",
       "      <td>30</td>\n",
       "      <td>30</td>\n",
       "      <td>1012</td>\n",
       "      <td>7.3</td>\n",
       "      <td>18.8</td>\n",
       "      <td>0.387</td>\n",
       "      <td>3.1</td>\n",
       "      <td>7.3</td>\n",
       "      <td>...</td>\n",
       "      <td>7.1</td>\n",
       "      <td>6.0</td>\n",
       "      <td>1.8</td>\n",
       "      <td>0.4</td>\n",
       "      <td>4.9</td>\n",
       "      <td>3.7</td>\n",
       "      <td>22.2</td>\n",
       "      <td>NaN</td>\n",
       "      <td>104.0</td>\n",
       "      <td>111.2</td>\n",
       "    </tr>\n",
       "    <tr>\n",
       "      <th>3</th>\n",
       "      <td>4</td>\n",
       "      <td>Bryce Johnson</td>\n",
       "      <td>31</td>\n",
       "      <td>19</td>\n",
       "      <td>847</td>\n",
       "      <td>7.3</td>\n",
       "      <td>16.4</td>\n",
       "      <td>0.444</td>\n",
       "      <td>3.3</td>\n",
       "      <td>6.0</td>\n",
       "      <td>...</td>\n",
       "      <td>8.6</td>\n",
       "      <td>1.9</td>\n",
       "      <td>1.6</td>\n",
       "      <td>0.8</td>\n",
       "      <td>2.3</td>\n",
       "      <td>3.9</td>\n",
       "      <td>21.1</td>\n",
       "      <td>NaN</td>\n",
       "      <td>119.7</td>\n",
       "      <td>111.5</td>\n",
       "    </tr>\n",
       "    <tr>\n",
       "      <th>4</th>\n",
       "      <td>5</td>\n",
       "      <td>Deshawn Jean-Charles</td>\n",
       "      <td>12</td>\n",
       "      <td>7</td>\n",
       "      <td>267</td>\n",
       "      <td>6.3</td>\n",
       "      <td>14.8</td>\n",
       "      <td>0.424</td>\n",
       "      <td>5.6</td>\n",
       "      <td>10.1</td>\n",
       "      <td>...</td>\n",
       "      <td>8.1</td>\n",
       "      <td>2.5</td>\n",
       "      <td>1.1</td>\n",
       "      <td>0.4</td>\n",
       "      <td>3.1</td>\n",
       "      <td>9.0</td>\n",
       "      <td>17.7</td>\n",
       "      <td>NaN</td>\n",
       "      <td>103.6</td>\n",
       "      <td>113.8</td>\n",
       "    </tr>\n",
       "  </tbody>\n",
       "</table>\n",
       "<p>5 rows × 27 columns</p>\n",
       "</div>"
      ],
      "text/plain": [
       "   Rk                Player   G  GS    MP   FG   FGA    FG%   2P   2PA  ...  \\\n",
       "0   1         Wesley Cardet  31  31  1052  9.3  20.6  0.453  7.5  15.3  ...   \n",
       "1   2       Jahsean Corbett  31  31  1077  9.6  20.6  0.466  7.7  14.6  ...   \n",
       "2   3         Elijah Weaver  30  30  1012  7.3  18.8  0.387  3.1   7.3  ...   \n",
       "3   4         Bryce Johnson  31  19   847  7.3  16.4  0.444  3.3   6.0  ...   \n",
       "4   5  Deshawn Jean-Charles  12   7   267  6.3  14.8  0.424  5.6  10.1  ...   \n",
       "\n",
       "    TRB  AST  STL  BLK  TOV   PF   PTS  Unnamed: 24   ORtg   DRtg  \n",
       "0   8.9  5.5  1.8  1.1  5.4  4.6  29.4          NaN  112.6  110.6  \n",
       "1  15.2  1.9  1.1  0.7  3.1  3.9  24.4          NaN  109.9  109.3  \n",
       "2   7.1  6.0  1.8  0.4  4.9  3.7  22.2          NaN  104.0  111.2  \n",
       "3   8.6  1.9  1.6  0.8  2.3  3.9  21.1          NaN  119.7  111.5  \n",
       "4   8.1  2.5  1.1  0.4  3.1  9.0  17.7          NaN  103.6  113.8  \n",
       "\n",
       "[5 rows x 27 columns]"
      ]
     },
     "execution_count": 25,
     "metadata": {},
     "output_type": "execute_result"
    }
   ],
   "source": [
    "df.head()"
   ]
  },
  {
   "cell_type": "code",
   "execution_count": 22,
   "id": "e66c16fd-cb3e-489d-9772-80149df72161",
   "metadata": {},
   "outputs": [
    {
     "data": {
      "text/plain": [
       "Index(['Rk', 'Player', 'G', 'GS', 'MP', 'FG', 'FGA', 'FG%', '2P', '2PA', '2P%',\n",
       "       '3P', '3PA', '3P%', 'FT', 'FTA', 'FT%', 'TRB', 'AST', 'STL', 'BLK',\n",
       "       'TOV', 'PF', 'PTS', 'Unnamed: 24', 'ORtg', 'DRtg'],\n",
       "      dtype='object')"
      ]
     },
     "execution_count": 22,
     "metadata": {},
     "output_type": "execute_result"
    }
   ],
   "source": [
    "prev_df.columns"
   ]
  },
  {
   "cell_type": "code",
   "execution_count": 26,
   "id": "7ad997c4-75d6-4c37-9e32-440f4bfcb298",
   "metadata": {},
   "outputs": [
    {
     "data": {
      "text/plain": [
       "Index(['Rk', 'Player', 'G', 'GS', 'MP', 'FG', 'FGA', 'FG%', '2P', '2PA', '2P%',\n",
       "       '3P', '3PA', '3P%', 'FT', 'FTA', 'FT%', 'TRB', 'AST', 'STL', 'BLK',\n",
       "       'TOV', 'PF', 'PTS', 'Unnamed: 24', 'ORtg', 'DRtg'],\n",
       "      dtype='object')"
      ]
     },
     "execution_count": 26,
     "metadata": {},
     "output_type": "execute_result"
    }
   ],
   "source": [
    "df.columns"
   ]
  },
  {
   "cell_type": "code",
   "execution_count": 27,
   "id": "39287bb7-84a7-4b06-9b44-894b9608fc89",
   "metadata": {},
   "outputs": [
    {
     "data": {
      "text/plain": [
       "array([ True,  True,  True,  True,  True,  True,  True,  True,  True,\n",
       "        True,  True,  True,  True,  True,  True,  True,  True,  True,\n",
       "        True,  True,  True,  True,  True,  True,  True,  True,  True])"
      ]
     },
     "execution_count": 27,
     "metadata": {},
     "output_type": "execute_result"
    }
   ],
   "source": [
    "prev_df.columns == df.columns"
   ]
  },
  {
   "cell_type": "markdown",
   "id": "30d5c627-3467-4678-920d-6e1d5ad55a1b",
   "metadata": {},
   "source": [
    "Usually, the per 100 posessions stas are the the 12 table on the page--at an index of 11--while for chicago-state that table is at an in dex of 6. Usually, there are season and a conference version of all the tables on the page and for this team there is only season level.  "
   ]
  },
  {
   "cell_type": "code",
   "execution_count": 33,
   "id": "5a467121-2b0d-4fea-a2e5-02bbd4713735",
   "metadata": {},
   "outputs": [
    {
     "name": "stdout",
     "output_type": "stream",
     "text": [
      "list index out of range\n",
      "https://www.sports-reference.com/cbb/schools/chicago-state/2023.html#per_poss\n",
      "Index is out of range try alternate table index as team may not have conference stats\n"
     ]
    }
   ],
   "source": [
    "try:\n",
    "    df = pd.read_html(url)[11]\n",
    "except IndexError as index_error:\n",
    "    print(index_error)\n",
    "    print(url)\n",
    "    print(\"Index is out of range try alternate table index as team may not have conference stats\")\n",
    "    df = pd.read_html(url)[6]\n",
    "    \n",
    "    "
   ]
  },
  {
   "cell_type": "code",
   "execution_count": 34,
   "id": "1b9bed1a-0cd0-4d33-9510-9014a84c3320",
   "metadata": {},
   "outputs": [
    {
     "data": {
      "text/html": [
       "<div>\n",
       "<style scoped>\n",
       "    .dataframe tbody tr th:only-of-type {\n",
       "        vertical-align: middle;\n",
       "    }\n",
       "\n",
       "    .dataframe tbody tr th {\n",
       "        vertical-align: top;\n",
       "    }\n",
       "\n",
       "    .dataframe thead th {\n",
       "        text-align: right;\n",
       "    }\n",
       "</style>\n",
       "<table border=\"1\" class=\"dataframe\">\n",
       "  <thead>\n",
       "    <tr style=\"text-align: right;\">\n",
       "      <th></th>\n",
       "      <th>Rk</th>\n",
       "      <th>Player</th>\n",
       "      <th>G</th>\n",
       "      <th>GS</th>\n",
       "      <th>MP</th>\n",
       "      <th>FG</th>\n",
       "      <th>FGA</th>\n",
       "      <th>FG%</th>\n",
       "      <th>2P</th>\n",
       "      <th>2PA</th>\n",
       "      <th>...</th>\n",
       "      <th>TRB</th>\n",
       "      <th>AST</th>\n",
       "      <th>STL</th>\n",
       "      <th>BLK</th>\n",
       "      <th>TOV</th>\n",
       "      <th>PF</th>\n",
       "      <th>PTS</th>\n",
       "      <th>Unnamed: 24</th>\n",
       "      <th>ORtg</th>\n",
       "      <th>DRtg</th>\n",
       "    </tr>\n",
       "  </thead>\n",
       "  <tbody>\n",
       "    <tr>\n",
       "      <th>0</th>\n",
       "      <td>1</td>\n",
       "      <td>Wesley Cardet</td>\n",
       "      <td>31</td>\n",
       "      <td>31</td>\n",
       "      <td>1052</td>\n",
       "      <td>9.3</td>\n",
       "      <td>20.6</td>\n",
       "      <td>0.453</td>\n",
       "      <td>7.5</td>\n",
       "      <td>15.3</td>\n",
       "      <td>...</td>\n",
       "      <td>8.9</td>\n",
       "      <td>5.5</td>\n",
       "      <td>1.8</td>\n",
       "      <td>1.1</td>\n",
       "      <td>5.4</td>\n",
       "      <td>4.6</td>\n",
       "      <td>29.4</td>\n",
       "      <td>NaN</td>\n",
       "      <td>112.6</td>\n",
       "      <td>110.6</td>\n",
       "    </tr>\n",
       "    <tr>\n",
       "      <th>1</th>\n",
       "      <td>2</td>\n",
       "      <td>Jahsean Corbett</td>\n",
       "      <td>31</td>\n",
       "      <td>31</td>\n",
       "      <td>1077</td>\n",
       "      <td>9.6</td>\n",
       "      <td>20.6</td>\n",
       "      <td>0.466</td>\n",
       "      <td>7.7</td>\n",
       "      <td>14.6</td>\n",
       "      <td>...</td>\n",
       "      <td>15.2</td>\n",
       "      <td>1.9</td>\n",
       "      <td>1.1</td>\n",
       "      <td>0.7</td>\n",
       "      <td>3.1</td>\n",
       "      <td>3.9</td>\n",
       "      <td>24.4</td>\n",
       "      <td>NaN</td>\n",
       "      <td>109.9</td>\n",
       "      <td>109.3</td>\n",
       "    </tr>\n",
       "    <tr>\n",
       "      <th>2</th>\n",
       "      <td>3</td>\n",
       "      <td>Elijah Weaver</td>\n",
       "      <td>30</td>\n",
       "      <td>30</td>\n",
       "      <td>1012</td>\n",
       "      <td>7.3</td>\n",
       "      <td>18.8</td>\n",
       "      <td>0.387</td>\n",
       "      <td>3.1</td>\n",
       "      <td>7.3</td>\n",
       "      <td>...</td>\n",
       "      <td>7.1</td>\n",
       "      <td>6.0</td>\n",
       "      <td>1.8</td>\n",
       "      <td>0.4</td>\n",
       "      <td>4.9</td>\n",
       "      <td>3.7</td>\n",
       "      <td>22.2</td>\n",
       "      <td>NaN</td>\n",
       "      <td>104.0</td>\n",
       "      <td>111.2</td>\n",
       "    </tr>\n",
       "    <tr>\n",
       "      <th>3</th>\n",
       "      <td>4</td>\n",
       "      <td>Bryce Johnson</td>\n",
       "      <td>31</td>\n",
       "      <td>19</td>\n",
       "      <td>847</td>\n",
       "      <td>7.3</td>\n",
       "      <td>16.4</td>\n",
       "      <td>0.444</td>\n",
       "      <td>3.3</td>\n",
       "      <td>6.0</td>\n",
       "      <td>...</td>\n",
       "      <td>8.6</td>\n",
       "      <td>1.9</td>\n",
       "      <td>1.6</td>\n",
       "      <td>0.8</td>\n",
       "      <td>2.3</td>\n",
       "      <td>3.9</td>\n",
       "      <td>21.1</td>\n",
       "      <td>NaN</td>\n",
       "      <td>119.7</td>\n",
       "      <td>111.5</td>\n",
       "    </tr>\n",
       "    <tr>\n",
       "      <th>4</th>\n",
       "      <td>5</td>\n",
       "      <td>Deshawn Jean-Charles</td>\n",
       "      <td>12</td>\n",
       "      <td>7</td>\n",
       "      <td>267</td>\n",
       "      <td>6.3</td>\n",
       "      <td>14.8</td>\n",
       "      <td>0.424</td>\n",
       "      <td>5.6</td>\n",
       "      <td>10.1</td>\n",
       "      <td>...</td>\n",
       "      <td>8.1</td>\n",
       "      <td>2.5</td>\n",
       "      <td>1.1</td>\n",
       "      <td>0.4</td>\n",
       "      <td>3.1</td>\n",
       "      <td>9.0</td>\n",
       "      <td>17.7</td>\n",
       "      <td>NaN</td>\n",
       "      <td>103.6</td>\n",
       "      <td>113.8</td>\n",
       "    </tr>\n",
       "  </tbody>\n",
       "</table>\n",
       "<p>5 rows × 27 columns</p>\n",
       "</div>"
      ],
      "text/plain": [
       "   Rk                Player   G  GS    MP   FG   FGA    FG%   2P   2PA  ...  \\\n",
       "0   1         Wesley Cardet  31  31  1052  9.3  20.6  0.453  7.5  15.3  ...   \n",
       "1   2       Jahsean Corbett  31  31  1077  9.6  20.6  0.466  7.7  14.6  ...   \n",
       "2   3         Elijah Weaver  30  30  1012  7.3  18.8  0.387  3.1   7.3  ...   \n",
       "3   4         Bryce Johnson  31  19   847  7.3  16.4  0.444  3.3   6.0  ...   \n",
       "4   5  Deshawn Jean-Charles  12   7   267  6.3  14.8  0.424  5.6  10.1  ...   \n",
       "\n",
       "    TRB  AST  STL  BLK  TOV   PF   PTS  Unnamed: 24   ORtg   DRtg  \n",
       "0   8.9  5.5  1.8  1.1  5.4  4.6  29.4          NaN  112.6  110.6  \n",
       "1  15.2  1.9  1.1  0.7  3.1  3.9  24.4          NaN  109.9  109.3  \n",
       "2   7.1  6.0  1.8  0.4  4.9  3.7  22.2          NaN  104.0  111.2  \n",
       "3   8.6  1.9  1.6  0.8  2.3  3.9  21.1          NaN  119.7  111.5  \n",
       "4   8.1  2.5  1.1  0.4  3.1  9.0  17.7          NaN  103.6  113.8  \n",
       "\n",
       "[5 rows x 27 columns]"
      ]
     },
     "execution_count": 34,
     "metadata": {},
     "output_type": "execute_result"
    }
   ],
   "source": [
    "df.head()"
   ]
  },
  {
   "cell_type": "code",
   "execution_count": 35,
   "id": "b5cf2760-a984-4651-ab3a-87525d05dc26",
   "metadata": {},
   "outputs": [
    {
     "data": {
      "text/plain": [
       "33.75"
      ]
     },
     "execution_count": 35,
     "metadata": {},
     "output_type": "execute_result"
    }
   ],
   "source": [
    "135/4"
   ]
  },
  {
   "cell_type": "code",
   "execution_count": 36,
   "id": "73b24b5d-a662-4956-a4c8-b4f6e5686a8f",
   "metadata": {},
   "outputs": [
    {
     "data": {
      "text/plain": [
       "33.75"
      ]
     },
     "execution_count": 36,
     "metadata": {},
     "output_type": "execute_result"
    }
   ],
   "source": [
    "168.75/5"
   ]
  },
  {
   "cell_type": "code",
   "execution_count": null,
   "id": "43f3adc5-4701-4e65-9d53-90c351f7fa1a",
   "metadata": {},
   "outputs": [],
   "source": []
  }
 ],
 "metadata": {
  "kernelspec": {
   "display_name": "Python 3",
   "language": "python",
   "name": "python3"
  },
  "language_info": {
   "codemirror_mode": {
    "name": "ipython",
    "version": 3
   },
   "file_extension": ".py",
   "mimetype": "text/x-python",
   "name": "python",
   "nbconvert_exporter": "python",
   "pygments_lexer": "ipython3",
   "version": "3.8.3"
  }
 },
 "nbformat": 4,
 "nbformat_minor": 5
}
