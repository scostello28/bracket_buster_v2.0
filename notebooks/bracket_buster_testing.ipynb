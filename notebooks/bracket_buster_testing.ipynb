{
 "cells": [
  {
   "cell_type": "markdown",
   "id": "11cd8e00-15df-4c53-b952-cab143758057",
   "metadata": {},
   "source": [
    "# Bracket Buster Testing"
   ]
  },
  {
   "cell_type": "code",
   "execution_count": 34,
   "id": "ff062806-5559-49c9-b653-2fce4b838720",
   "metadata": {},
   "outputs": [],
   "source": [
    "import os\n",
    "import pandas as pd\n",
    "import pickle"
   ]
  },
  {
   "cell_type": "code",
   "execution_count": 39,
   "id": "7c9c118a-6007-49d0-89e4-493a8c0903e8",
   "metadata": {},
   "outputs": [],
   "source": [
    "source_dir = \"/Users/sean/Documents/bracket_buster/bracket_buster_v2.0/\""
   ]
  },
  {
   "cell_type": "markdown",
   "id": "bc9b0ef8-c4fb-4c3c-9b30-9ef12aceba5c",
   "metadata": {},
   "source": [
    "## read seasons"
   ]
  },
  {
   "cell_type": "code",
   "execution_count": null,
   "id": "48e18ca2-c87f-464e-b95b-d7ae9cdebbea",
   "metadata": {},
   "outputs": [],
   "source": [
    "def read_seasons(seasons_path):\n",
    "    try:\n",
    "        with open(seasons_path, 'r') as f:\n",
    "            seasons = f.read()\n",
    "    except FileNotFoundError:\n",
    "        print(f'{seasons_path} does not exist' )\n",
    "        raise \n",
    "    \n",
    "    # print(seasons.split('\\n')) \n",
    "    seasons = seasons.split('\\n')\n",
    "    # print(seasons)\n",
    "    \n",
    "    return seasons"
   ]
  },
  {
   "cell_type": "code",
   "execution_count": null,
   "id": "dd57075e-5de2-4c3c-9684-8b3f09d57edf",
   "metadata": {},
   "outputs": [],
   "source": [
    "seasons = read_seasons('seasons_test.txt')"
   ]
  },
  {
   "cell_type": "code",
   "execution_count": null,
   "id": "2761761c-4dd3-4f13-9bf9-1a94d38fee4c",
   "metadata": {},
   "outputs": [],
   "source": [
    "type(seasons)"
   ]
  },
  {
   "cell_type": "code",
   "execution_count": null,
   "id": "4909dd13-47f7-486c-a636-e3f026f9b767",
   "metadata": {},
   "outputs": [],
   "source": [
    "seasons"
   ]
  },
  {
   "cell_type": "markdown",
   "id": "d5f04823-333e-4880-b899-ee8cb4a44b81",
   "metadata": {},
   "source": [
    "## chicago-state Error"
   ]
  },
  {
   "cell_type": "code",
   "execution_count": 6,
   "id": "bdca97fb-b794-489f-aa02-c9ed5c95a00a",
   "metadata": {},
   "outputs": [],
   "source": [
    "season = 2023\n",
    "team = 'chicago-state'\n",
    "url = 'https://www.sports-reference.com/cbb/schools/{}/{}.html#per_poss'.format(team, season)"
   ]
  },
  {
   "cell_type": "code",
   "execution_count": 8,
   "id": "58662cde-7013-4747-a343-068e7b63692c",
   "metadata": {},
   "outputs": [
    {
     "data": {
      "text/plain": [
       "'https://www.sports-reference.com/cbb/schools/chicago-state/2023.html#per_poss'"
      ]
     },
     "execution_count": 8,
     "metadata": {},
     "output_type": "execute_result"
    }
   ],
   "source": [
    "url"
   ]
  },
  {
   "cell_type": "code",
   "execution_count": 10,
   "id": "b9d936e3-c5a6-42c2-94bc-3667ddc85fad",
   "metadata": {},
   "outputs": [
    {
     "data": {
      "text/plain": [
       "'https://www.sports-reference.com/cbb/schools/chattanooga/2023.html#per_poss'"
      ]
     },
     "execution_count": 10,
     "metadata": {},
     "output_type": "execute_result"
    }
   ],
   "source": [
    "prev_team = 'chattanooga'\n",
    "prev_url = 'https://www.sports-reference.com/cbb/schools/{}/{}.html#per_poss'.format(prev_team, season)\n",
    "prev_url"
   ]
  },
  {
   "cell_type": "code",
   "execution_count": 11,
   "id": "77409936-dc37-42a0-a764-6cd4d53dd622",
   "metadata": {},
   "outputs": [],
   "source": [
    "prev_df = pd.read_html(prev_url)[11]"
   ]
  },
  {
   "cell_type": "code",
   "execution_count": 12,
   "id": "7c18b452-5ee3-4a7a-80e3-7c58daeedd75",
   "metadata": {},
   "outputs": [
    {
     "data": {
      "text/html": [
       "<div>\n",
       "<style scoped>\n",
       "    .dataframe tbody tr th:only-of-type {\n",
       "        vertical-align: middle;\n",
       "    }\n",
       "\n",
       "    .dataframe tbody tr th {\n",
       "        vertical-align: top;\n",
       "    }\n",
       "\n",
       "    .dataframe thead th {\n",
       "        text-align: right;\n",
       "    }\n",
       "</style>\n",
       "<table border=\"1\" class=\"dataframe\">\n",
       "  <thead>\n",
       "    <tr style=\"text-align: right;\">\n",
       "      <th></th>\n",
       "      <th>Rk</th>\n",
       "      <th>Player</th>\n",
       "      <th>G</th>\n",
       "      <th>GS</th>\n",
       "      <th>MP</th>\n",
       "      <th>FG</th>\n",
       "      <th>FGA</th>\n",
       "      <th>FG%</th>\n",
       "      <th>2P</th>\n",
       "      <th>2PA</th>\n",
       "      <th>...</th>\n",
       "      <th>TRB</th>\n",
       "      <th>AST</th>\n",
       "      <th>STL</th>\n",
       "      <th>BLK</th>\n",
       "      <th>TOV</th>\n",
       "      <th>PF</th>\n",
       "      <th>PTS</th>\n",
       "      <th>Unnamed: 24</th>\n",
       "      <th>ORtg</th>\n",
       "      <th>DRtg</th>\n",
       "    </tr>\n",
       "  </thead>\n",
       "  <tbody>\n",
       "    <tr>\n",
       "      <th>0</th>\n",
       "      <td>1</td>\n",
       "      <td>Jake Stephens</td>\n",
       "      <td>24</td>\n",
       "      <td>24</td>\n",
       "      <td>770</td>\n",
       "      <td>13.6</td>\n",
       "      <td>24.7</td>\n",
       "      <td>0.552</td>\n",
       "      <td>9.8</td>\n",
       "      <td>15.3</td>\n",
       "      <td>...</td>\n",
       "      <td>17.6</td>\n",
       "      <td>6.2</td>\n",
       "      <td>1.7</td>\n",
       "      <td>4.0</td>\n",
       "      <td>5.1</td>\n",
       "      <td>2.9</td>\n",
       "      <td>39.7</td>\n",
       "      <td>NaN</td>\n",
       "      <td>127.0</td>\n",
       "      <td>98.3</td>\n",
       "    </tr>\n",
       "    <tr>\n",
       "      <th>1</th>\n",
       "      <td>2</td>\n",
       "      <td>Jamal Johnson</td>\n",
       "      <td>35</td>\n",
       "      <td>35</td>\n",
       "      <td>1042</td>\n",
       "      <td>8.2</td>\n",
       "      <td>19.1</td>\n",
       "      <td>0.433</td>\n",
       "      <td>3.1</td>\n",
       "      <td>6.2</td>\n",
       "      <td>...</td>\n",
       "      <td>8.5</td>\n",
       "      <td>2.4</td>\n",
       "      <td>2.0</td>\n",
       "      <td>0.7</td>\n",
       "      <td>2.9</td>\n",
       "      <td>3.8</td>\n",
       "      <td>27.0</td>\n",
       "      <td>NaN</td>\n",
       "      <td>117.5</td>\n",
       "      <td>106.2</td>\n",
       "    </tr>\n",
       "    <tr>\n",
       "      <th>2</th>\n",
       "      <td>3</td>\n",
       "      <td>Johnny Taylor</td>\n",
       "      <td>12</td>\n",
       "      <td>0</td>\n",
       "      <td>53</td>\n",
       "      <td>11.0</td>\n",
       "      <td>19.7</td>\n",
       "      <td>0.556</td>\n",
       "      <td>9.9</td>\n",
       "      <td>16.4</td>\n",
       "      <td>...</td>\n",
       "      <td>2.2</td>\n",
       "      <td>1.1</td>\n",
       "      <td>1.1</td>\n",
       "      <td>0.0</td>\n",
       "      <td>3.3</td>\n",
       "      <td>1.1</td>\n",
       "      <td>25.2</td>\n",
       "      <td>NaN</td>\n",
       "      <td>104.2</td>\n",
       "      <td>112.9</td>\n",
       "    </tr>\n",
       "    <tr>\n",
       "      <th>3</th>\n",
       "      <td>4</td>\n",
       "      <td>Ashton Smith</td>\n",
       "      <td>2</td>\n",
       "      <td>0</td>\n",
       "      <td>26</td>\n",
       "      <td>8.9</td>\n",
       "      <td>11.2</td>\n",
       "      <td>0.800</td>\n",
       "      <td>2.2</td>\n",
       "      <td>2.2</td>\n",
       "      <td>...</td>\n",
       "      <td>6.7</td>\n",
       "      <td>11.2</td>\n",
       "      <td>0.0</td>\n",
       "      <td>0.0</td>\n",
       "      <td>0.0</td>\n",
       "      <td>0.0</td>\n",
       "      <td>24.6</td>\n",
       "      <td>NaN</td>\n",
       "      <td>227.1</td>\n",
       "      <td>112.1</td>\n",
       "    </tr>\n",
       "    <tr>\n",
       "      <th>4</th>\n",
       "      <td>5</td>\n",
       "      <td>Sam Alexis</td>\n",
       "      <td>32</td>\n",
       "      <td>0</td>\n",
       "      <td>379</td>\n",
       "      <td>9.5</td>\n",
       "      <td>18.2</td>\n",
       "      <td>0.521</td>\n",
       "      <td>7.7</td>\n",
       "      <td>13.2</td>\n",
       "      <td>...</td>\n",
       "      <td>18.8</td>\n",
       "      <td>4.0</td>\n",
       "      <td>1.2</td>\n",
       "      <td>2.9</td>\n",
       "      <td>4.1</td>\n",
       "      <td>8.0</td>\n",
       "      <td>24.5</td>\n",
       "      <td>NaN</td>\n",
       "      <td>114.9</td>\n",
       "      <td>101.9</td>\n",
       "    </tr>\n",
       "  </tbody>\n",
       "</table>\n",
       "<p>5 rows × 27 columns</p>\n",
       "</div>"
      ],
      "text/plain": [
       "   Rk         Player   G  GS    MP    FG   FGA    FG%   2P   2PA  ...   TRB  \\\n",
       "0   1  Jake Stephens  24  24   770  13.6  24.7  0.552  9.8  15.3  ...  17.6   \n",
       "1   2  Jamal Johnson  35  35  1042   8.2  19.1  0.433  3.1   6.2  ...   8.5   \n",
       "2   3  Johnny Taylor  12   0    53  11.0  19.7  0.556  9.9  16.4  ...   2.2   \n",
       "3   4   Ashton Smith   2   0    26   8.9  11.2  0.800  2.2   2.2  ...   6.7   \n",
       "4   5     Sam Alexis  32   0   379   9.5  18.2  0.521  7.7  13.2  ...  18.8   \n",
       "\n",
       "    AST  STL  BLK  TOV   PF   PTS  Unnamed: 24   ORtg   DRtg  \n",
       "0   6.2  1.7  4.0  5.1  2.9  39.7          NaN  127.0   98.3  \n",
       "1   2.4  2.0  0.7  2.9  3.8  27.0          NaN  117.5  106.2  \n",
       "2   1.1  1.1  0.0  3.3  1.1  25.2          NaN  104.2  112.9  \n",
       "3  11.2  0.0  0.0  0.0  0.0  24.6          NaN  227.1  112.1  \n",
       "4   4.0  1.2  2.9  4.1  8.0  24.5          NaN  114.9  101.9  \n",
       "\n",
       "[5 rows x 27 columns]"
      ]
     },
     "execution_count": 12,
     "metadata": {},
     "output_type": "execute_result"
    }
   ],
   "source": [
    "prev_df.head()"
   ]
  },
  {
   "cell_type": "code",
   "execution_count": 24,
   "id": "ff80742a-cbf2-4889-a03f-bbac246cb420",
   "metadata": {},
   "outputs": [],
   "source": [
    "df = pd.read_html(url)[6]"
   ]
  },
  {
   "cell_type": "code",
   "execution_count": 25,
   "id": "89389a71-efc4-4f72-b5a9-cbdff03452cc",
   "metadata": {},
   "outputs": [
    {
     "data": {
      "text/html": [
       "<div>\n",
       "<style scoped>\n",
       "    .dataframe tbody tr th:only-of-type {\n",
       "        vertical-align: middle;\n",
       "    }\n",
       "\n",
       "    .dataframe tbody tr th {\n",
       "        vertical-align: top;\n",
       "    }\n",
       "\n",
       "    .dataframe thead th {\n",
       "        text-align: right;\n",
       "    }\n",
       "</style>\n",
       "<table border=\"1\" class=\"dataframe\">\n",
       "  <thead>\n",
       "    <tr style=\"text-align: right;\">\n",
       "      <th></th>\n",
       "      <th>Rk</th>\n",
       "      <th>Player</th>\n",
       "      <th>G</th>\n",
       "      <th>GS</th>\n",
       "      <th>MP</th>\n",
       "      <th>FG</th>\n",
       "      <th>FGA</th>\n",
       "      <th>FG%</th>\n",
       "      <th>2P</th>\n",
       "      <th>2PA</th>\n",
       "      <th>...</th>\n",
       "      <th>TRB</th>\n",
       "      <th>AST</th>\n",
       "      <th>STL</th>\n",
       "      <th>BLK</th>\n",
       "      <th>TOV</th>\n",
       "      <th>PF</th>\n",
       "      <th>PTS</th>\n",
       "      <th>Unnamed: 24</th>\n",
       "      <th>ORtg</th>\n",
       "      <th>DRtg</th>\n",
       "    </tr>\n",
       "  </thead>\n",
       "  <tbody>\n",
       "    <tr>\n",
       "      <th>0</th>\n",
       "      <td>1</td>\n",
       "      <td>Wesley Cardet</td>\n",
       "      <td>31</td>\n",
       "      <td>31</td>\n",
       "      <td>1052</td>\n",
       "      <td>9.3</td>\n",
       "      <td>20.6</td>\n",
       "      <td>0.453</td>\n",
       "      <td>7.5</td>\n",
       "      <td>15.3</td>\n",
       "      <td>...</td>\n",
       "      <td>8.9</td>\n",
       "      <td>5.5</td>\n",
       "      <td>1.8</td>\n",
       "      <td>1.1</td>\n",
       "      <td>5.4</td>\n",
       "      <td>4.6</td>\n",
       "      <td>29.4</td>\n",
       "      <td>NaN</td>\n",
       "      <td>112.6</td>\n",
       "      <td>110.6</td>\n",
       "    </tr>\n",
       "    <tr>\n",
       "      <th>1</th>\n",
       "      <td>2</td>\n",
       "      <td>Jahsean Corbett</td>\n",
       "      <td>31</td>\n",
       "      <td>31</td>\n",
       "      <td>1077</td>\n",
       "      <td>9.6</td>\n",
       "      <td>20.6</td>\n",
       "      <td>0.466</td>\n",
       "      <td>7.7</td>\n",
       "      <td>14.6</td>\n",
       "      <td>...</td>\n",
       "      <td>15.2</td>\n",
       "      <td>1.9</td>\n",
       "      <td>1.1</td>\n",
       "      <td>0.7</td>\n",
       "      <td>3.1</td>\n",
       "      <td>3.9</td>\n",
       "      <td>24.4</td>\n",
       "      <td>NaN</td>\n",
       "      <td>109.9</td>\n",
       "      <td>109.3</td>\n",
       "    </tr>\n",
       "    <tr>\n",
       "      <th>2</th>\n",
       "      <td>3</td>\n",
       "      <td>Elijah Weaver</td>\n",
       "      <td>30</td>\n",
       "      <td>30</td>\n",
       "      <td>1012</td>\n",
       "      <td>7.3</td>\n",
       "      <td>18.8</td>\n",
       "      <td>0.387</td>\n",
       "      <td>3.1</td>\n",
       "      <td>7.3</td>\n",
       "      <td>...</td>\n",
       "      <td>7.1</td>\n",
       "      <td>6.0</td>\n",
       "      <td>1.8</td>\n",
       "      <td>0.4</td>\n",
       "      <td>4.9</td>\n",
       "      <td>3.7</td>\n",
       "      <td>22.2</td>\n",
       "      <td>NaN</td>\n",
       "      <td>104.0</td>\n",
       "      <td>111.2</td>\n",
       "    </tr>\n",
       "    <tr>\n",
       "      <th>3</th>\n",
       "      <td>4</td>\n",
       "      <td>Bryce Johnson</td>\n",
       "      <td>31</td>\n",
       "      <td>19</td>\n",
       "      <td>847</td>\n",
       "      <td>7.3</td>\n",
       "      <td>16.4</td>\n",
       "      <td>0.444</td>\n",
       "      <td>3.3</td>\n",
       "      <td>6.0</td>\n",
       "      <td>...</td>\n",
       "      <td>8.6</td>\n",
       "      <td>1.9</td>\n",
       "      <td>1.6</td>\n",
       "      <td>0.8</td>\n",
       "      <td>2.3</td>\n",
       "      <td>3.9</td>\n",
       "      <td>21.1</td>\n",
       "      <td>NaN</td>\n",
       "      <td>119.7</td>\n",
       "      <td>111.5</td>\n",
       "    </tr>\n",
       "    <tr>\n",
       "      <th>4</th>\n",
       "      <td>5</td>\n",
       "      <td>Deshawn Jean-Charles</td>\n",
       "      <td>12</td>\n",
       "      <td>7</td>\n",
       "      <td>267</td>\n",
       "      <td>6.3</td>\n",
       "      <td>14.8</td>\n",
       "      <td>0.424</td>\n",
       "      <td>5.6</td>\n",
       "      <td>10.1</td>\n",
       "      <td>...</td>\n",
       "      <td>8.1</td>\n",
       "      <td>2.5</td>\n",
       "      <td>1.1</td>\n",
       "      <td>0.4</td>\n",
       "      <td>3.1</td>\n",
       "      <td>9.0</td>\n",
       "      <td>17.7</td>\n",
       "      <td>NaN</td>\n",
       "      <td>103.6</td>\n",
       "      <td>113.8</td>\n",
       "    </tr>\n",
       "  </tbody>\n",
       "</table>\n",
       "<p>5 rows × 27 columns</p>\n",
       "</div>"
      ],
      "text/plain": [
       "   Rk                Player   G  GS    MP   FG   FGA    FG%   2P   2PA  ...  \\\n",
       "0   1         Wesley Cardet  31  31  1052  9.3  20.6  0.453  7.5  15.3  ...   \n",
       "1   2       Jahsean Corbett  31  31  1077  9.6  20.6  0.466  7.7  14.6  ...   \n",
       "2   3         Elijah Weaver  30  30  1012  7.3  18.8  0.387  3.1   7.3  ...   \n",
       "3   4         Bryce Johnson  31  19   847  7.3  16.4  0.444  3.3   6.0  ...   \n",
       "4   5  Deshawn Jean-Charles  12   7   267  6.3  14.8  0.424  5.6  10.1  ...   \n",
       "\n",
       "    TRB  AST  STL  BLK  TOV   PF   PTS  Unnamed: 24   ORtg   DRtg  \n",
       "0   8.9  5.5  1.8  1.1  5.4  4.6  29.4          NaN  112.6  110.6  \n",
       "1  15.2  1.9  1.1  0.7  3.1  3.9  24.4          NaN  109.9  109.3  \n",
       "2   7.1  6.0  1.8  0.4  4.9  3.7  22.2          NaN  104.0  111.2  \n",
       "3   8.6  1.9  1.6  0.8  2.3  3.9  21.1          NaN  119.7  111.5  \n",
       "4   8.1  2.5  1.1  0.4  3.1  9.0  17.7          NaN  103.6  113.8  \n",
       "\n",
       "[5 rows x 27 columns]"
      ]
     },
     "execution_count": 25,
     "metadata": {},
     "output_type": "execute_result"
    }
   ],
   "source": [
    "df.head()"
   ]
  },
  {
   "cell_type": "code",
   "execution_count": 22,
   "id": "e66c16fd-cb3e-489d-9772-80149df72161",
   "metadata": {},
   "outputs": [
    {
     "data": {
      "text/plain": [
       "Index(['Rk', 'Player', 'G', 'GS', 'MP', 'FG', 'FGA', 'FG%', '2P', '2PA', '2P%',\n",
       "       '3P', '3PA', '3P%', 'FT', 'FTA', 'FT%', 'TRB', 'AST', 'STL', 'BLK',\n",
       "       'TOV', 'PF', 'PTS', 'Unnamed: 24', 'ORtg', 'DRtg'],\n",
       "      dtype='object')"
      ]
     },
     "execution_count": 22,
     "metadata": {},
     "output_type": "execute_result"
    }
   ],
   "source": [
    "prev_df.columns"
   ]
  },
  {
   "cell_type": "code",
   "execution_count": 26,
   "id": "7ad997c4-75d6-4c37-9e32-440f4bfcb298",
   "metadata": {},
   "outputs": [
    {
     "data": {
      "text/plain": [
       "Index(['Rk', 'Player', 'G', 'GS', 'MP', 'FG', 'FGA', 'FG%', '2P', '2PA', '2P%',\n",
       "       '3P', '3PA', '3P%', 'FT', 'FTA', 'FT%', 'TRB', 'AST', 'STL', 'BLK',\n",
       "       'TOV', 'PF', 'PTS', 'Unnamed: 24', 'ORtg', 'DRtg'],\n",
       "      dtype='object')"
      ]
     },
     "execution_count": 26,
     "metadata": {},
     "output_type": "execute_result"
    }
   ],
   "source": [
    "df.columns"
   ]
  },
  {
   "cell_type": "code",
   "execution_count": 27,
   "id": "39287bb7-84a7-4b06-9b44-894b9608fc89",
   "metadata": {},
   "outputs": [
    {
     "data": {
      "text/plain": [
       "array([ True,  True,  True,  True,  True,  True,  True,  True,  True,\n",
       "        True,  True,  True,  True,  True,  True,  True,  True,  True,\n",
       "        True,  True,  True,  True,  True,  True,  True,  True,  True])"
      ]
     },
     "execution_count": 27,
     "metadata": {},
     "output_type": "execute_result"
    }
   ],
   "source": [
    "prev_df.columns == df.columns"
   ]
  },
  {
   "cell_type": "markdown",
   "id": "30d5c627-3467-4678-920d-6e1d5ad55a1b",
   "metadata": {},
   "source": [
    "Usually, the per 100 posessions stas are the the 12 table on the page--at an index of 11--while for chicago-state that table is at an in dex of 6. Usually, there are season and a conference version of all the tables on the page and for this team there is only season level.  "
   ]
  },
  {
   "cell_type": "code",
   "execution_count": 33,
   "id": "5a467121-2b0d-4fea-a2e5-02bbd4713735",
   "metadata": {},
   "outputs": [
    {
     "name": "stdout",
     "output_type": "stream",
     "text": [
      "list index out of range\n",
      "https://www.sports-reference.com/cbb/schools/chicago-state/2023.html#per_poss\n",
      "Index is out of range try alternate table index as team may not have conference stats\n"
     ]
    }
   ],
   "source": [
    "try:\n",
    "    df = pd.read_html(url)[11]\n",
    "except IndexError as index_error:\n",
    "    print(index_error)\n",
    "    print(url)\n",
    "    print(\"Index is out of range try alternate table index as team may not have conference stats\")\n",
    "    df = pd.read_html(url)[6]\n",
    "    \n",
    "    "
   ]
  },
  {
   "cell_type": "code",
   "execution_count": 34,
   "id": "1b9bed1a-0cd0-4d33-9510-9014a84c3320",
   "metadata": {},
   "outputs": [
    {
     "data": {
      "text/html": [
       "<div>\n",
       "<style scoped>\n",
       "    .dataframe tbody tr th:only-of-type {\n",
       "        vertical-align: middle;\n",
       "    }\n",
       "\n",
       "    .dataframe tbody tr th {\n",
       "        vertical-align: top;\n",
       "    }\n",
       "\n",
       "    .dataframe thead th {\n",
       "        text-align: right;\n",
       "    }\n",
       "</style>\n",
       "<table border=\"1\" class=\"dataframe\">\n",
       "  <thead>\n",
       "    <tr style=\"text-align: right;\">\n",
       "      <th></th>\n",
       "      <th>Rk</th>\n",
       "      <th>Player</th>\n",
       "      <th>G</th>\n",
       "      <th>GS</th>\n",
       "      <th>MP</th>\n",
       "      <th>FG</th>\n",
       "      <th>FGA</th>\n",
       "      <th>FG%</th>\n",
       "      <th>2P</th>\n",
       "      <th>2PA</th>\n",
       "      <th>...</th>\n",
       "      <th>TRB</th>\n",
       "      <th>AST</th>\n",
       "      <th>STL</th>\n",
       "      <th>BLK</th>\n",
       "      <th>TOV</th>\n",
       "      <th>PF</th>\n",
       "      <th>PTS</th>\n",
       "      <th>Unnamed: 24</th>\n",
       "      <th>ORtg</th>\n",
       "      <th>DRtg</th>\n",
       "    </tr>\n",
       "  </thead>\n",
       "  <tbody>\n",
       "    <tr>\n",
       "      <th>0</th>\n",
       "      <td>1</td>\n",
       "      <td>Wesley Cardet</td>\n",
       "      <td>31</td>\n",
       "      <td>31</td>\n",
       "      <td>1052</td>\n",
       "      <td>9.3</td>\n",
       "      <td>20.6</td>\n",
       "      <td>0.453</td>\n",
       "      <td>7.5</td>\n",
       "      <td>15.3</td>\n",
       "      <td>...</td>\n",
       "      <td>8.9</td>\n",
       "      <td>5.5</td>\n",
       "      <td>1.8</td>\n",
       "      <td>1.1</td>\n",
       "      <td>5.4</td>\n",
       "      <td>4.6</td>\n",
       "      <td>29.4</td>\n",
       "      <td>NaN</td>\n",
       "      <td>112.6</td>\n",
       "      <td>110.6</td>\n",
       "    </tr>\n",
       "    <tr>\n",
       "      <th>1</th>\n",
       "      <td>2</td>\n",
       "      <td>Jahsean Corbett</td>\n",
       "      <td>31</td>\n",
       "      <td>31</td>\n",
       "      <td>1077</td>\n",
       "      <td>9.6</td>\n",
       "      <td>20.6</td>\n",
       "      <td>0.466</td>\n",
       "      <td>7.7</td>\n",
       "      <td>14.6</td>\n",
       "      <td>...</td>\n",
       "      <td>15.2</td>\n",
       "      <td>1.9</td>\n",
       "      <td>1.1</td>\n",
       "      <td>0.7</td>\n",
       "      <td>3.1</td>\n",
       "      <td>3.9</td>\n",
       "      <td>24.4</td>\n",
       "      <td>NaN</td>\n",
       "      <td>109.9</td>\n",
       "      <td>109.3</td>\n",
       "    </tr>\n",
       "    <tr>\n",
       "      <th>2</th>\n",
       "      <td>3</td>\n",
       "      <td>Elijah Weaver</td>\n",
       "      <td>30</td>\n",
       "      <td>30</td>\n",
       "      <td>1012</td>\n",
       "      <td>7.3</td>\n",
       "      <td>18.8</td>\n",
       "      <td>0.387</td>\n",
       "      <td>3.1</td>\n",
       "      <td>7.3</td>\n",
       "      <td>...</td>\n",
       "      <td>7.1</td>\n",
       "      <td>6.0</td>\n",
       "      <td>1.8</td>\n",
       "      <td>0.4</td>\n",
       "      <td>4.9</td>\n",
       "      <td>3.7</td>\n",
       "      <td>22.2</td>\n",
       "      <td>NaN</td>\n",
       "      <td>104.0</td>\n",
       "      <td>111.2</td>\n",
       "    </tr>\n",
       "    <tr>\n",
       "      <th>3</th>\n",
       "      <td>4</td>\n",
       "      <td>Bryce Johnson</td>\n",
       "      <td>31</td>\n",
       "      <td>19</td>\n",
       "      <td>847</td>\n",
       "      <td>7.3</td>\n",
       "      <td>16.4</td>\n",
       "      <td>0.444</td>\n",
       "      <td>3.3</td>\n",
       "      <td>6.0</td>\n",
       "      <td>...</td>\n",
       "      <td>8.6</td>\n",
       "      <td>1.9</td>\n",
       "      <td>1.6</td>\n",
       "      <td>0.8</td>\n",
       "      <td>2.3</td>\n",
       "      <td>3.9</td>\n",
       "      <td>21.1</td>\n",
       "      <td>NaN</td>\n",
       "      <td>119.7</td>\n",
       "      <td>111.5</td>\n",
       "    </tr>\n",
       "    <tr>\n",
       "      <th>4</th>\n",
       "      <td>5</td>\n",
       "      <td>Deshawn Jean-Charles</td>\n",
       "      <td>12</td>\n",
       "      <td>7</td>\n",
       "      <td>267</td>\n",
       "      <td>6.3</td>\n",
       "      <td>14.8</td>\n",
       "      <td>0.424</td>\n",
       "      <td>5.6</td>\n",
       "      <td>10.1</td>\n",
       "      <td>...</td>\n",
       "      <td>8.1</td>\n",
       "      <td>2.5</td>\n",
       "      <td>1.1</td>\n",
       "      <td>0.4</td>\n",
       "      <td>3.1</td>\n",
       "      <td>9.0</td>\n",
       "      <td>17.7</td>\n",
       "      <td>NaN</td>\n",
       "      <td>103.6</td>\n",
       "      <td>113.8</td>\n",
       "    </tr>\n",
       "  </tbody>\n",
       "</table>\n",
       "<p>5 rows × 27 columns</p>\n",
       "</div>"
      ],
      "text/plain": [
       "   Rk                Player   G  GS    MP   FG   FGA    FG%   2P   2PA  ...  \\\n",
       "0   1         Wesley Cardet  31  31  1052  9.3  20.6  0.453  7.5  15.3  ...   \n",
       "1   2       Jahsean Corbett  31  31  1077  9.6  20.6  0.466  7.7  14.6  ...   \n",
       "2   3         Elijah Weaver  30  30  1012  7.3  18.8  0.387  3.1   7.3  ...   \n",
       "3   4         Bryce Johnson  31  19   847  7.3  16.4  0.444  3.3   6.0  ...   \n",
       "4   5  Deshawn Jean-Charles  12   7   267  6.3  14.8  0.424  5.6  10.1  ...   \n",
       "\n",
       "    TRB  AST  STL  BLK  TOV   PF   PTS  Unnamed: 24   ORtg   DRtg  \n",
       "0   8.9  5.5  1.8  1.1  5.4  4.6  29.4          NaN  112.6  110.6  \n",
       "1  15.2  1.9  1.1  0.7  3.1  3.9  24.4          NaN  109.9  109.3  \n",
       "2   7.1  6.0  1.8  0.4  4.9  3.7  22.2          NaN  104.0  111.2  \n",
       "3   8.6  1.9  1.6  0.8  2.3  3.9  21.1          NaN  119.7  111.5  \n",
       "4   8.1  2.5  1.1  0.4  3.1  9.0  17.7          NaN  103.6  113.8  \n",
       "\n",
       "[5 rows x 27 columns]"
      ]
     },
     "execution_count": 34,
     "metadata": {},
     "output_type": "execute_result"
    }
   ],
   "source": [
    "df.head()"
   ]
  },
  {
   "cell_type": "code",
   "execution_count": 35,
   "id": "b5cf2760-a984-4651-ab3a-87525d05dc26",
   "metadata": {},
   "outputs": [
    {
     "data": {
      "text/plain": [
       "33.75"
      ]
     },
     "execution_count": 35,
     "metadata": {},
     "output_type": "execute_result"
    }
   ],
   "source": [
    "135/4"
   ]
  },
  {
   "cell_type": "code",
   "execution_count": 36,
   "id": "73b24b5d-a662-4956-a4c8-b4f6e5686a8f",
   "metadata": {},
   "outputs": [
    {
     "data": {
      "text/plain": [
       "33.75"
      ]
     },
     "execution_count": 36,
     "metadata": {},
     "output_type": "execute_result"
    }
   ],
   "source": [
    "168.75/5"
   ]
  },
  {
   "cell_type": "markdown",
   "id": "d08cec68-c412-4459-a95b-bdc370ebc455",
   "metadata": {},
   "source": [
    "## transform stats bug"
   ]
  },
  {
   "cell_type": "code",
   "execution_count": 7,
   "id": "99b93971-8142-4d38-8fb8-0d63bbe5ca6a",
   "metadata": {},
   "outputs": [],
   "source": [
    "season = 2023\n",
    "gamelog_season_filename = f\"season_{season}_gamelog_data.pkl\"\n",
    "gamelog_dir = \"/Users/sean/Documents/bracket_buster/bracket_buster_v2.0/0_scraped_data\""
   ]
  },
  {
   "cell_type": "code",
   "execution_count": 8,
   "id": "77ca26ad-0771-47c3-a705-efa7166680cd",
   "metadata": {},
   "outputs": [],
   "source": [
    "gl_df = pd.read_pickle(gamelog_dir + \"/\" + gamelog_season_filename)"
   ]
  },
  {
   "cell_type": "code",
   "execution_count": 25,
   "id": "b89f6358-4e9c-4523-90ab-fb57ffe68d10",
   "metadata": {},
   "outputs": [
    {
     "data": {
      "text/html": [
       "<div>\n",
       "<style scoped>\n",
       "    .dataframe tbody tr th:only-of-type {\n",
       "        vertical-align: middle;\n",
       "    }\n",
       "\n",
       "    .dataframe tbody tr th {\n",
       "        vertical-align: top;\n",
       "    }\n",
       "\n",
       "    .dataframe thead th {\n",
       "        text-align: right;\n",
       "    }\n",
       "</style>\n",
       "<table border=\"1\" class=\"dataframe\">\n",
       "  <thead>\n",
       "    <tr style=\"text-align: right;\">\n",
       "      <th></th>\n",
       "      <th>G</th>\n",
       "      <th>Date</th>\n",
       "      <th>Home</th>\n",
       "      <th>Opp</th>\n",
       "      <th>W</th>\n",
       "      <th>Pts</th>\n",
       "      <th>PtsA</th>\n",
       "      <th>FG</th>\n",
       "      <th>FGA</th>\n",
       "      <th>FG%</th>\n",
       "      <th>...</th>\n",
       "      <th>ORB</th>\n",
       "      <th>RB</th>\n",
       "      <th>AST</th>\n",
       "      <th>STL</th>\n",
       "      <th>BLK</th>\n",
       "      <th>TO</th>\n",
       "      <th>PF</th>\n",
       "      <th>Tm</th>\n",
       "      <th>sos</th>\n",
       "      <th>GameType</th>\n",
       "    </tr>\n",
       "  </thead>\n",
       "  <tbody>\n",
       "    <tr>\n",
       "      <th>0</th>\n",
       "      <td>1</td>\n",
       "      <td>2022-11-07</td>\n",
       "      <td>H</td>\n",
       "      <td>jackson-state</td>\n",
       "      <td>1.0</td>\n",
       "      <td>65</td>\n",
       "      <td>56</td>\n",
       "      <td>23</td>\n",
       "      <td>57</td>\n",
       "      <td>.404</td>\n",
       "      <td>...</td>\n",
       "      <td>4</td>\n",
       "      <td>32</td>\n",
       "      <td>12</td>\n",
       "      <td>9</td>\n",
       "      <td>5</td>\n",
       "      <td>15</td>\n",
       "      <td>17</td>\n",
       "      <td>abilene-christian</td>\n",
       "      <td>1.15</td>\n",
       "      <td>season2023</td>\n",
       "    </tr>\n",
       "    <tr>\n",
       "      <th>1</th>\n",
       "      <td>2</td>\n",
       "      <td>2022-11-11</td>\n",
       "      <td>A</td>\n",
       "      <td>texas-am</td>\n",
       "      <td>0.0</td>\n",
       "      <td>58</td>\n",
       "      <td>77</td>\n",
       "      <td>20</td>\n",
       "      <td>52</td>\n",
       "      <td>.385</td>\n",
       "      <td>...</td>\n",
       "      <td>9</td>\n",
       "      <td>24</td>\n",
       "      <td>12</td>\n",
       "      <td>11</td>\n",
       "      <td>0</td>\n",
       "      <td>20</td>\n",
       "      <td>22</td>\n",
       "      <td>abilene-christian</td>\n",
       "      <td>1.15</td>\n",
       "      <td>season2023</td>\n",
       "    </tr>\n",
       "    <tr>\n",
       "      <th>2</th>\n",
       "      <td>3</td>\n",
       "      <td>2022-11-15</td>\n",
       "      <td>H</td>\n",
       "      <td>mcmurry</td>\n",
       "      <td>1.0</td>\n",
       "      <td>104</td>\n",
       "      <td>46</td>\n",
       "      <td>41</td>\n",
       "      <td>68</td>\n",
       "      <td>.603</td>\n",
       "      <td>...</td>\n",
       "      <td>15</td>\n",
       "      <td>44</td>\n",
       "      <td>22</td>\n",
       "      <td>15</td>\n",
       "      <td>5</td>\n",
       "      <td>18</td>\n",
       "      <td>18</td>\n",
       "      <td>abilene-christian</td>\n",
       "      <td>1.15</td>\n",
       "      <td>season2023</td>\n",
       "    </tr>\n",
       "    <tr>\n",
       "      <th>3</th>\n",
       "      <td>4</td>\n",
       "      <td>2022-11-21</td>\n",
       "      <td>N</td>\n",
       "      <td>wright-state</td>\n",
       "      <td>0.0</td>\n",
       "      <td>61</td>\n",
       "      <td>77</td>\n",
       "      <td>25</td>\n",
       "      <td>58</td>\n",
       "      <td>.431</td>\n",
       "      <td>...</td>\n",
       "      <td>6</td>\n",
       "      <td>26</td>\n",
       "      <td>15</td>\n",
       "      <td>11</td>\n",
       "      <td>3</td>\n",
       "      <td>23</td>\n",
       "      <td>23</td>\n",
       "      <td>abilene-christian</td>\n",
       "      <td>1.15</td>\n",
       "      <td>season2023</td>\n",
       "    </tr>\n",
       "    <tr>\n",
       "      <th>4</th>\n",
       "      <td>5</td>\n",
       "      <td>2022-11-22</td>\n",
       "      <td>N</td>\n",
       "      <td>weber-state</td>\n",
       "      <td>0.0</td>\n",
       "      <td>67</td>\n",
       "      <td>77</td>\n",
       "      <td>26</td>\n",
       "      <td>53</td>\n",
       "      <td>.491</td>\n",
       "      <td>...</td>\n",
       "      <td>2</td>\n",
       "      <td>22</td>\n",
       "      <td>20</td>\n",
       "      <td>7</td>\n",
       "      <td>3</td>\n",
       "      <td>15</td>\n",
       "      <td>19</td>\n",
       "      <td>abilene-christian</td>\n",
       "      <td>1.15</td>\n",
       "      <td>season2023</td>\n",
       "    </tr>\n",
       "  </tbody>\n",
       "</table>\n",
       "<p>5 rows × 26 columns</p>\n",
       "</div>"
      ],
      "text/plain": [
       "   G        Date Home            Opp    W  Pts PtsA  FG FGA   FG%  ... ORB  \\\n",
       "0  1  2022-11-07    H  jackson-state  1.0   65   56  23  57  .404  ...   4   \n",
       "1  2  2022-11-11    A       texas-am  0.0   58   77  20  52  .385  ...   9   \n",
       "2  3  2022-11-15    H        mcmurry  1.0  104   46  41  68  .603  ...  15   \n",
       "3  4  2022-11-21    N   wright-state  0.0   61   77  25  58  .431  ...   6   \n",
       "4  5  2022-11-22    N    weber-state  0.0   67   77  26  53  .491  ...   2   \n",
       "\n",
       "   RB AST STL BLK  TO  PF                 Tm   sos    GameType  \n",
       "0  32  12   9   5  15  17  abilene-christian  1.15  season2023  \n",
       "1  24  12  11   0  20  22  abilene-christian  1.15  season2023  \n",
       "2  44  22  15   5  18  18  abilene-christian  1.15  season2023  \n",
       "3  26  15  11   3  23  23  abilene-christian  1.15  season2023  \n",
       "4  22  20   7   3  15  19  abilene-christian  1.15  season2023  \n",
       "\n",
       "[5 rows x 26 columns]"
      ]
     },
     "execution_count": 25,
     "metadata": {},
     "output_type": "execute_result"
    }
   ],
   "source": [
    "gl_df.head()"
   ]
  },
  {
   "cell_type": "code",
   "execution_count": 23,
   "id": "02de5af6-4daa-44e2-b62e-6093b76579bb",
   "metadata": {},
   "outputs": [
    {
     "name": "stdout",
     "output_type": "stream",
     "text": [
      "<class 'pandas.core.frame.DataFrame'>\n",
      "Int64Index: 11596 entries, 0 to 11741\n",
      "Data columns (total 26 columns):\n",
      " #   Column    Non-Null Count  Dtype  \n",
      "---  ------    --------------  -----  \n",
      " 0   G         11596 non-null  object \n",
      " 1   Date      11596 non-null  object \n",
      " 2   Home      11596 non-null  object \n",
      " 3   Opp       11595 non-null  object \n",
      " 4   W         11596 non-null  float64\n",
      " 5   Pts       11596 non-null  object \n",
      " 6   PtsA      11596 non-null  object \n",
      " 7   FG        11581 non-null  object \n",
      " 8   FGA       11581 non-null  object \n",
      " 9   FG%       11581 non-null  object \n",
      " 10  3P        11581 non-null  object \n",
      " 11  3PA       11581 non-null  object \n",
      " 12  3P%       11581 non-null  object \n",
      " 13  FT        11581 non-null  object \n",
      " 14  FTA       11581 non-null  object \n",
      " 15  FT%       11580 non-null  object \n",
      " 16  ORB       11581 non-null  object \n",
      " 17  RB        11581 non-null  object \n",
      " 18  AST       11581 non-null  object \n",
      " 19  STL       11581 non-null  object \n",
      " 20  BLK       11581 non-null  object \n",
      " 21  TO        11581 non-null  object \n",
      " 22  PF        11581 non-null  object \n",
      " 23  Tm        11596 non-null  object \n",
      " 24  sos       11596 non-null  float64\n",
      " 25  GameType  11596 non-null  object \n",
      "dtypes: float64(2), object(24)\n",
      "memory usage: 2.4+ MB\n"
     ]
    }
   ],
   "source": [
    "gl_df.info()"
   ]
  },
  {
   "cell_type": "code",
   "execution_count": 22,
   "id": "79041480-695c-44b3-9319-445b607debca",
   "metadata": {},
   "outputs": [
    {
     "data": {
      "text/plain": [
       "0"
      ]
     },
     "execution_count": 22,
     "metadata": {},
     "output_type": "execute_result"
    }
   ],
   "source": [
    "gl_df[gl_df['W'].isna()].shape[0]"
   ]
  },
  {
   "cell_type": "code",
   "execution_count": 21,
   "id": "7c87776d-c46e-4d2f-945e-c52f9f5b0067",
   "metadata": {},
   "outputs": [
    {
     "data": {
      "text/html": [
       "<div>\n",
       "<style scoped>\n",
       "    .dataframe tbody tr th:only-of-type {\n",
       "        vertical-align: middle;\n",
       "    }\n",
       "\n",
       "    .dataframe tbody tr th {\n",
       "        vertical-align: top;\n",
       "    }\n",
       "\n",
       "    .dataframe thead th {\n",
       "        text-align: right;\n",
       "    }\n",
       "</style>\n",
       "<table border=\"1\" class=\"dataframe\">\n",
       "  <thead>\n",
       "    <tr style=\"text-align: right;\">\n",
       "      <th></th>\n",
       "      <th>G</th>\n",
       "      <th>Date</th>\n",
       "      <th>Home</th>\n",
       "      <th>Opp</th>\n",
       "      <th>W</th>\n",
       "      <th>Pts</th>\n",
       "      <th>PtsA</th>\n",
       "      <th>FG</th>\n",
       "      <th>FGA</th>\n",
       "      <th>FG%</th>\n",
       "      <th>...</th>\n",
       "      <th>ORB</th>\n",
       "      <th>RB</th>\n",
       "      <th>AST</th>\n",
       "      <th>STL</th>\n",
       "      <th>BLK</th>\n",
       "      <th>TO</th>\n",
       "      <th>PF</th>\n",
       "      <th>Tm</th>\n",
       "      <th>sos</th>\n",
       "      <th>GameType</th>\n",
       "    </tr>\n",
       "  </thead>\n",
       "  <tbody>\n",
       "  </tbody>\n",
       "</table>\n",
       "<p>0 rows × 26 columns</p>\n",
       "</div>"
      ],
      "text/plain": [
       "Empty DataFrame\n",
       "Columns: [G, Date, Home, Opp, W, Pts, PtsA, FG, FGA, FG%, 3P, 3PA, 3P%, FT, FTA, FT%, ORB, RB, AST, STL, BLK, TO, PF, Tm, sos, GameType]\n",
       "Index: []\n",
       "\n",
       "[0 rows x 26 columns]"
      ]
     },
     "execution_count": 21,
     "metadata": {},
     "output_type": "execute_result"
    }
   ],
   "source": [
    "gl_df[gl_df['W'].isna()].head()"
   ]
  },
  {
   "cell_type": "code",
   "execution_count": 24,
   "id": "17b592b7-c141-4b9c-9ca2-fbbcaaf85e79",
   "metadata": {},
   "outputs": [],
   "source": [
    "gl_df = gl_df[gl_df['W'].notna()].copy()"
   ]
  },
  {
   "cell_type": "code",
   "execution_count": 28,
   "id": "9f1dd9ee-969e-43f9-8bfe-4e0cc9433105",
   "metadata": {},
   "outputs": [],
   "source": [
    "season = 2023\n",
    "gamelog_season_filename = f\"season_{season}_gamelog_stats_data.pkl\"\n",
    "gamelog_dir = \"/Users/sean/Documents/bracket_buster/bracket_buster_v2.0/1_transformed_data\""
   ]
  },
  {
   "cell_type": "code",
   "execution_count": 29,
   "id": "0f54bf60-776b-47b5-8b93-11cb9751636c",
   "metadata": {},
   "outputs": [],
   "source": [
    "gl_df_t = pd.read_pickle(gamelog_dir + \"/\" + gamelog_season_filename)"
   ]
  },
  {
   "cell_type": "code",
   "execution_count": 30,
   "id": "bb379e2d-a229-4ac6-b817-16221b3a7b33",
   "metadata": {},
   "outputs": [
    {
     "data": {
      "text/html": [
       "<div>\n",
       "<style scoped>\n",
       "    .dataframe tbody tr th:only-of-type {\n",
       "        vertical-align: middle;\n",
       "    }\n",
       "\n",
       "    .dataframe tbody tr th {\n",
       "        vertical-align: top;\n",
       "    }\n",
       "\n",
       "    .dataframe thead th {\n",
       "        text-align: right;\n",
       "    }\n",
       "</style>\n",
       "<table border=\"1\" class=\"dataframe\">\n",
       "  <thead>\n",
       "    <tr style=\"text-align: right;\">\n",
       "      <th></th>\n",
       "      <th>Date</th>\n",
       "      <th>Home</th>\n",
       "      <th>Opp</th>\n",
       "      <th>W</th>\n",
       "      <th>sos</th>\n",
       "      <th>GameType</th>\n",
       "      <th>Ws</th>\n",
       "      <th>Wp</th>\n",
       "      <th>ppg</th>\n",
       "      <th>pApg</th>\n",
       "      <th>...</th>\n",
       "      <th>3Pp</th>\n",
       "      <th>FTp</th>\n",
       "      <th>ORBpg</th>\n",
       "      <th>RBpg</th>\n",
       "      <th>ASTpg</th>\n",
       "      <th>STLpg</th>\n",
       "      <th>BLKpg</th>\n",
       "      <th>TOpg</th>\n",
       "      <th>PFpg</th>\n",
       "      <th>Tm</th>\n",
       "    </tr>\n",
       "  </thead>\n",
       "  <tbody>\n",
       "    <tr>\n",
       "      <th>0</th>\n",
       "      <td>2022-11-23</td>\n",
       "      <td>N</td>\n",
       "      <td>california-riverside</td>\n",
       "      <td>0.0</td>\n",
       "      <td>1.15</td>\n",
       "      <td>season2023</td>\n",
       "      <td>2.0</td>\n",
       "      <td>0.400000</td>\n",
       "      <td>71.0</td>\n",
       "      <td>66.6</td>\n",
       "      <td>...</td>\n",
       "      <td>0.3742</td>\n",
       "      <td>0.6202</td>\n",
       "      <td>7.2</td>\n",
       "      <td>29.6</td>\n",
       "      <td>16.2</td>\n",
       "      <td>10.6</td>\n",
       "      <td>3.2</td>\n",
       "      <td>18.2</td>\n",
       "      <td>19.8</td>\n",
       "      <td>abilene-christian</td>\n",
       "    </tr>\n",
       "    <tr>\n",
       "      <th>1</th>\n",
       "      <td>2022-11-27</td>\n",
       "      <td>A</td>\n",
       "      <td>northern-arizona</td>\n",
       "      <td>1.0</td>\n",
       "      <td>1.15</td>\n",
       "      <td>season2023</td>\n",
       "      <td>2.0</td>\n",
       "      <td>0.333333</td>\n",
       "      <td>71.0</td>\n",
       "      <td>70.6</td>\n",
       "      <td>...</td>\n",
       "      <td>0.3754</td>\n",
       "      <td>0.6658</td>\n",
       "      <td>8.8</td>\n",
       "      <td>29.0</td>\n",
       "      <td>16.6</td>\n",
       "      <td>10.2</td>\n",
       "      <td>2.8</td>\n",
       "      <td>18.0</td>\n",
       "      <td>20.6</td>\n",
       "      <td>abilene-christian</td>\n",
       "    </tr>\n",
       "    <tr>\n",
       "      <th>2</th>\n",
       "      <td>2022-11-30</td>\n",
       "      <td>H</td>\n",
       "      <td>north-american</td>\n",
       "      <td>1.0</td>\n",
       "      <td>1.15</td>\n",
       "      <td>season2023</td>\n",
       "      <td>3.0</td>\n",
       "      <td>0.428571</td>\n",
       "      <td>77.8</td>\n",
       "      <td>71.6</td>\n",
       "      <td>...</td>\n",
       "      <td>0.3978</td>\n",
       "      <td>0.6264</td>\n",
       "      <td>8.6</td>\n",
       "      <td>30.0</td>\n",
       "      <td>17.8</td>\n",
       "      <td>9.2</td>\n",
       "      <td>3.2</td>\n",
       "      <td>16.0</td>\n",
       "      <td>20.6</td>\n",
       "      <td>abilene-christian</td>\n",
       "    </tr>\n",
       "    <tr>\n",
       "      <th>3</th>\n",
       "      <td>2022-12-03</td>\n",
       "      <td>H</td>\n",
       "      <td>arlington-baptist</td>\n",
       "      <td>1.0</td>\n",
       "      <td>1.15</td>\n",
       "      <td>season2023</td>\n",
       "      <td>4.0</td>\n",
       "      <td>0.500000</td>\n",
       "      <td>75.6</td>\n",
       "      <td>71.6</td>\n",
       "      <td>...</td>\n",
       "      <td>0.4148</td>\n",
       "      <td>0.6256</td>\n",
       "      <td>9.0</td>\n",
       "      <td>28.8</td>\n",
       "      <td>17.2</td>\n",
       "      <td>9.2</td>\n",
       "      <td>2.8</td>\n",
       "      <td>14.2</td>\n",
       "      <td>20.6</td>\n",
       "      <td>abilene-christian</td>\n",
       "    </tr>\n",
       "    <tr>\n",
       "      <th>4</th>\n",
       "      <td>2022-12-06</td>\n",
       "      <td>A</td>\n",
       "      <td>kansas-state</td>\n",
       "      <td>0.0</td>\n",
       "      <td>1.15</td>\n",
       "      <td>season2023</td>\n",
       "      <td>5.0</td>\n",
       "      <td>0.555556</td>\n",
       "      <td>81.0</td>\n",
       "      <td>64.6</td>\n",
       "      <td>...</td>\n",
       "      <td>0.4152</td>\n",
       "      <td>0.7056</td>\n",
       "      <td>11.0</td>\n",
       "      <td>31.6</td>\n",
       "      <td>18.6</td>\n",
       "      <td>9.6</td>\n",
       "      <td>3.8</td>\n",
       "      <td>12.6</td>\n",
       "      <td>19.6</td>\n",
       "      <td>abilene-christian</td>\n",
       "    </tr>\n",
       "  </tbody>\n",
       "</table>\n",
       "<p>5 rows × 21 columns</p>\n",
       "</div>"
      ],
      "text/plain": [
       "         Date Home                   Opp    W   sos    GameType   Ws  \\\n",
       "0  2022-11-23    N  california-riverside  0.0  1.15  season2023  2.0   \n",
       "1  2022-11-27    A      northern-arizona  1.0  1.15  season2023  2.0   \n",
       "2  2022-11-30    H        north-american  1.0  1.15  season2023  3.0   \n",
       "3  2022-12-03    H     arlington-baptist  1.0  1.15  season2023  4.0   \n",
       "4  2022-12-06    A          kansas-state  0.0  1.15  season2023  5.0   \n",
       "\n",
       "         Wp   ppg  pApg  ...     3Pp     FTp  ORBpg  RBpg  ASTpg  STLpg  \\\n",
       "0  0.400000  71.0  66.6  ...  0.3742  0.6202    7.2  29.6   16.2   10.6   \n",
       "1  0.333333  71.0  70.6  ...  0.3754  0.6658    8.8  29.0   16.6   10.2   \n",
       "2  0.428571  77.8  71.6  ...  0.3978  0.6264    8.6  30.0   17.8    9.2   \n",
       "3  0.500000  75.6  71.6  ...  0.4148  0.6256    9.0  28.8   17.2    9.2   \n",
       "4  0.555556  81.0  64.6  ...  0.4152  0.7056   11.0  31.6   18.6    9.6   \n",
       "\n",
       "   BLKpg  TOpg  PFpg                 Tm  \n",
       "0    3.2  18.2  19.8  abilene-christian  \n",
       "1    2.8  18.0  20.6  abilene-christian  \n",
       "2    3.2  16.0  20.6  abilene-christian  \n",
       "3    2.8  14.2  20.6  abilene-christian  \n",
       "4    3.8  12.6  19.6  abilene-christian  \n",
       "\n",
       "[5 rows x 21 columns]"
      ]
     },
     "execution_count": 30,
     "metadata": {},
     "output_type": "execute_result"
    }
   ],
   "source": [
    "gl_df_t.head()"
   ]
  },
  {
   "cell_type": "code",
   "execution_count": 31,
   "id": "8657b874-85c2-4860-bdb0-a2498dbaeb0f",
   "metadata": {},
   "outputs": [
    {
     "name": "stdout",
     "output_type": "stream",
     "text": [
      "<class 'pandas.core.frame.DataFrame'>\n",
      "RangeIndex: 9737 entries, 0 to 9736\n",
      "Data columns (total 21 columns):\n",
      " #   Column    Non-Null Count  Dtype  \n",
      "---  ------    --------------  -----  \n",
      " 0   Date      9737 non-null   object \n",
      " 1   Home      9737 non-null   object \n",
      " 2   Opp       9737 non-null   object \n",
      " 3   W         9737 non-null   float64\n",
      " 4   sos       9737 non-null   float64\n",
      " 5   GameType  9737 non-null   object \n",
      " 6   Ws        9737 non-null   float64\n",
      " 7   Wp        9737 non-null   float64\n",
      " 8   ppg       9737 non-null   float64\n",
      " 9   pApg      9737 non-null   float64\n",
      " 10  FGp       9737 non-null   float64\n",
      " 11  3Pp       9737 non-null   float64\n",
      " 12  FTp       9737 non-null   float64\n",
      " 13  ORBpg     9737 non-null   float64\n",
      " 14  RBpg      9737 non-null   float64\n",
      " 15  ASTpg     9737 non-null   float64\n",
      " 16  STLpg     9737 non-null   float64\n",
      " 17  BLKpg     9737 non-null   float64\n",
      " 18  TOpg      9737 non-null   float64\n",
      " 19  PFpg      9737 non-null   float64\n",
      " 20  Tm        9737 non-null   object \n",
      "dtypes: float64(16), object(5)\n",
      "memory usage: 1.6+ MB\n"
     ]
    }
   ],
   "source": [
    "gl_df_t.info()"
   ]
  },
  {
   "cell_type": "code",
   "execution_count": 32,
   "id": "03d52fff-fd8a-41ed-a045-7e471c34a5db",
   "metadata": {},
   "outputs": [],
   "source": [
    "gl_df_t_ = pd.read_pickle(\"/Users/sean/Documents/bracket_buster/bracket_buster_v2.0/1_transformed_data/season_2022_gamelog_stats_data.pkl\")"
   ]
  },
  {
   "cell_type": "code",
   "execution_count": 33,
   "id": "57e7be97-dd8c-443c-b080-fca051de06c8",
   "metadata": {},
   "outputs": [
    {
     "data": {
      "text/plain": [
       "(9409, 21)"
      ]
     },
     "execution_count": 33,
     "metadata": {},
     "output_type": "execute_result"
    }
   ],
   "source": [
    "gl_df_t_.shape"
   ]
  },
  {
   "cell_type": "markdown",
   "id": "0560219f-710c-440f-a93c-e09e80a0ae0b",
   "metadata": {},
   "source": [
    "## Roster data height with decimal bug\n",
    "\n",
    "Notes:\n",
    "- There are null values for height in both 2022 and 2023 \n",
    "- Issue: in 2023 there is an error telling me someone height is formatted somethign like 5.5-3 where it should be int-int format representing height in ft-in. "
   ]
  },
  {
   "cell_type": "code",
   "execution_count": 42,
   "id": "e83aceeb-14cd-4a28-a9b7-f3f31698d236",
   "metadata": {},
   "outputs": [
    {
     "name": "stdout",
     "output_type": "stream",
     "text": [
      "/Users/sean/Documents/bracket_buster/bracket_buster_v2.0/0_scraped_data/roster_2023_data.csv\n"
     ]
    }
   ],
   "source": [
    "season = 2023\n",
    "filename = f\"roster_{season}_data.csv\"\n",
    "data_dir = \"0_scraped_data/\"\n",
    "file_path = os.path.join(source_dir, data_dir, filename)\n",
    "print(file_path)"
   ]
  },
  {
   "cell_type": "code",
   "execution_count": 43,
   "id": "b2f94688-9738-4b4b-9473-8ad91cb50ed0",
   "metadata": {},
   "outputs": [],
   "source": [
    "rdf = pd.read_csv(file_path)"
   ]
  },
  {
   "cell_type": "code",
   "execution_count": 44,
   "id": "031733bc-d55f-4e66-b2aa-4efa7a3a3e29",
   "metadata": {},
   "outputs": [
    {
     "data": {
      "text/html": [
       "<div>\n",
       "<style scoped>\n",
       "    .dataframe tbody tr th:only-of-type {\n",
       "        vertical-align: middle;\n",
       "    }\n",
       "\n",
       "    .dataframe tbody tr th {\n",
       "        vertical-align: top;\n",
       "    }\n",
       "\n",
       "    .dataframe thead th {\n",
       "        text-align: right;\n",
       "    }\n",
       "</style>\n",
       "<table border=\"1\" class=\"dataframe\">\n",
       "  <thead>\n",
       "    <tr style=\"text-align: right;\">\n",
       "      <th></th>\n",
       "      <th>Unnamed: 0</th>\n",
       "      <th>Player</th>\n",
       "      <th>Class</th>\n",
       "      <th>Pos</th>\n",
       "      <th>Height</th>\n",
       "      <th>Team</th>\n",
       "      <th>Season</th>\n",
       "    </tr>\n",
       "  </thead>\n",
       "  <tbody>\n",
       "    <tr>\n",
       "      <th>0</th>\n",
       "      <td>0</td>\n",
       "      <td>Tobias Cameron</td>\n",
       "      <td>4.0</td>\n",
       "      <td>G</td>\n",
       "      <td>6-5</td>\n",
       "      <td>abilene-christian</td>\n",
       "      <td>2023</td>\n",
       "    </tr>\n",
       "    <tr>\n",
       "      <th>1</th>\n",
       "      <td>1</td>\n",
       "      <td>Ali Abdou Dibba</td>\n",
       "      <td>2.0</td>\n",
       "      <td>G</td>\n",
       "      <td>6-4</td>\n",
       "      <td>abilene-christian</td>\n",
       "      <td>2023</td>\n",
       "    </tr>\n",
       "    <tr>\n",
       "      <th>2</th>\n",
       "      <td>2</td>\n",
       "      <td>Airion Simmons</td>\n",
       "      <td>4.0</td>\n",
       "      <td>F</td>\n",
       "      <td>6-5</td>\n",
       "      <td>abilene-christian</td>\n",
       "      <td>2023</td>\n",
       "    </tr>\n",
       "    <tr>\n",
       "      <th>3</th>\n",
       "      <td>3</td>\n",
       "      <td>Immanuel Allen</td>\n",
       "      <td>4.0</td>\n",
       "      <td>G</td>\n",
       "      <td>6-4</td>\n",
       "      <td>abilene-christian</td>\n",
       "      <td>2023</td>\n",
       "    </tr>\n",
       "    <tr>\n",
       "      <th>4</th>\n",
       "      <td>4</td>\n",
       "      <td>Damien Daniels</td>\n",
       "      <td>4.0</td>\n",
       "      <td>G</td>\n",
       "      <td>5-7</td>\n",
       "      <td>abilene-christian</td>\n",
       "      <td>2023</td>\n",
       "    </tr>\n",
       "  </tbody>\n",
       "</table>\n",
       "</div>"
      ],
      "text/plain": [
       "   Unnamed: 0           Player  Class Pos Height               Team  Season\n",
       "0           0   Tobias Cameron    4.0   G    6-5  abilene-christian    2023\n",
       "1           1  Ali Abdou Dibba    2.0   G    6-4  abilene-christian    2023\n",
       "2           2   Airion Simmons    4.0   F    6-5  abilene-christian    2023\n",
       "3           3   Immanuel Allen    4.0   G    6-4  abilene-christian    2023\n",
       "4           4   Damien Daniels    4.0   G    5-7  abilene-christian    2023"
      ]
     },
     "execution_count": 44,
     "metadata": {},
     "output_type": "execute_result"
    }
   ],
   "source": [
    "rdf.head()"
   ]
  },
  {
   "cell_type": "code",
   "execution_count": 74,
   "id": "19798133-ccf8-4c72-b773-77a72a538b71",
   "metadata": {},
   "outputs": [
    {
     "name": "stdout",
     "output_type": "stream",
     "text": [
      "<class 'pandas.core.frame.DataFrame'>\n",
      "RangeIndex: 5615 entries, 0 to 5614\n",
      "Data columns (total 7 columns):\n",
      " #   Column      Non-Null Count  Dtype  \n",
      "---  ------      --------------  -----  \n",
      " 0   Unnamed: 0  5615 non-null   int64  \n",
      " 1   Player      5615 non-null   object \n",
      " 2   Class       5609 non-null   float64\n",
      " 3   Pos         5592 non-null   object \n",
      " 4   Height      5601 non-null   object \n",
      " 5   Team        5615 non-null   object \n",
      " 6   Season      5615 non-null   int64  \n",
      "dtypes: float64(1), int64(2), object(4)\n",
      "memory usage: 307.2+ KB\n"
     ]
    }
   ],
   "source": [
    "rdf.info()"
   ]
  },
  {
   "cell_type": "code",
   "execution_count": 75,
   "id": "6b5e98d3-783f-4164-a054-cedae95d2f6c",
   "metadata": {},
   "outputs": [
    {
     "data": {
      "text/plain": [
       "(14, 7)"
      ]
     },
     "execution_count": 75,
     "metadata": {},
     "output_type": "execute_result"
    }
   ],
   "source": [
    "rdf[rdf['Height'].isna()].shape"
   ]
  },
  {
   "cell_type": "code",
   "execution_count": 84,
   "id": "434444e9-0884-46aa-b80f-677b085e4a37",
   "metadata": {},
   "outputs": [
    {
     "data": {
      "text/html": [
       "<div>\n",
       "<style scoped>\n",
       "    .dataframe tbody tr th:only-of-type {\n",
       "        vertical-align: middle;\n",
       "    }\n",
       "\n",
       "    .dataframe tbody tr th {\n",
       "        vertical-align: top;\n",
       "    }\n",
       "\n",
       "    .dataframe thead th {\n",
       "        text-align: right;\n",
       "    }\n",
       "</style>\n",
       "<table border=\"1\" class=\"dataframe\">\n",
       "  <thead>\n",
       "    <tr style=\"text-align: right;\">\n",
       "      <th></th>\n",
       "      <th>Unnamed: 0</th>\n",
       "      <th>Player</th>\n",
       "      <th>Class</th>\n",
       "      <th>Pos</th>\n",
       "      <th>Height</th>\n",
       "      <th>Team</th>\n",
       "      <th>Season</th>\n",
       "    </tr>\n",
       "  </thead>\n",
       "  <tbody>\n",
       "  </tbody>\n",
       "</table>\n",
       "</div>"
      ],
      "text/plain": [
       "Empty DataFrame\n",
       "Columns: [Unnamed: 0, Player, Class, Pos, Height, Team, Season]\n",
       "Index: []"
      ]
     },
     "execution_count": 84,
     "metadata": {},
     "output_type": "execute_result"
    }
   ],
   "source": [
    "rdf[rdf['Height'].isna()].head()"
   ]
  },
  {
   "cell_type": "code",
   "execution_count": 77,
   "id": "3cf7c33c-ae22-485e-911e-9f5f41f18ef4",
   "metadata": {},
   "outputs": [],
   "source": [
    "rdf = rdf.dropna(axis=0, how='any')"
   ]
  },
  {
   "cell_type": "code",
   "execution_count": 88,
   "id": "af9876e4-226e-4e9b-88ee-47f8ac203b16",
   "metadata": {},
   "outputs": [
    {
     "data": {
      "text/html": [
       "<div>\n",
       "<style scoped>\n",
       "    .dataframe tbody tr th:only-of-type {\n",
       "        vertical-align: middle;\n",
       "    }\n",
       "\n",
       "    .dataframe tbody tr th {\n",
       "        vertical-align: top;\n",
       "    }\n",
       "\n",
       "    .dataframe thead th {\n",
       "        text-align: right;\n",
       "    }\n",
       "</style>\n",
       "<table border=\"1\" class=\"dataframe\">\n",
       "  <thead>\n",
       "    <tr style=\"text-align: right;\">\n",
       "      <th></th>\n",
       "      <th>Unnamed: 0</th>\n",
       "      <th>Player</th>\n",
       "      <th>Class</th>\n",
       "      <th>Pos</th>\n",
       "      <th>Height</th>\n",
       "      <th>Team</th>\n",
       "      <th>Season</th>\n",
       "    </tr>\n",
       "  </thead>\n",
       "  <tbody>\n",
       "    <tr>\n",
       "      <th>0</th>\n",
       "      <td>0</td>\n",
       "      <td>Tobias Cameron</td>\n",
       "      <td>4.0</td>\n",
       "      <td>G</td>\n",
       "      <td>6-5</td>\n",
       "      <td>abilene-christian</td>\n",
       "      <td>2023</td>\n",
       "    </tr>\n",
       "    <tr>\n",
       "      <th>1</th>\n",
       "      <td>1</td>\n",
       "      <td>Ali Abdou Dibba</td>\n",
       "      <td>2.0</td>\n",
       "      <td>G</td>\n",
       "      <td>6-4</td>\n",
       "      <td>abilene-christian</td>\n",
       "      <td>2023</td>\n",
       "    </tr>\n",
       "    <tr>\n",
       "      <th>2</th>\n",
       "      <td>2</td>\n",
       "      <td>Airion Simmons</td>\n",
       "      <td>4.0</td>\n",
       "      <td>F</td>\n",
       "      <td>6-5</td>\n",
       "      <td>abilene-christian</td>\n",
       "      <td>2023</td>\n",
       "    </tr>\n",
       "    <tr>\n",
       "      <th>3</th>\n",
       "      <td>3</td>\n",
       "      <td>Immanuel Allen</td>\n",
       "      <td>4.0</td>\n",
       "      <td>G</td>\n",
       "      <td>6-4</td>\n",
       "      <td>abilene-christian</td>\n",
       "      <td>2023</td>\n",
       "    </tr>\n",
       "    <tr>\n",
       "      <th>4</th>\n",
       "      <td>4</td>\n",
       "      <td>Damien Daniels</td>\n",
       "      <td>4.0</td>\n",
       "      <td>G</td>\n",
       "      <td>5-7</td>\n",
       "      <td>abilene-christian</td>\n",
       "      <td>2023</td>\n",
       "    </tr>\n",
       "  </tbody>\n",
       "</table>\n",
       "</div>"
      ],
      "text/plain": [
       "   Unnamed: 0           Player  Class Pos Height               Team  Season\n",
       "0           0   Tobias Cameron    4.0   G    6-5  abilene-christian    2023\n",
       "1           1  Ali Abdou Dibba    2.0   G    6-4  abilene-christian    2023\n",
       "2           2   Airion Simmons    4.0   F    6-5  abilene-christian    2023\n",
       "3           3   Immanuel Allen    4.0   G    6-4  abilene-christian    2023\n",
       "4           4   Damien Daniels    4.0   G    5-7  abilene-christian    2023"
      ]
     },
     "execution_count": 88,
     "metadata": {},
     "output_type": "execute_result"
    }
   ],
   "source": [
    "rdf.head()"
   ]
  },
  {
   "cell_type": "code",
   "execution_count": null,
   "id": "6534eb04-5707-4857-9d69-892f87b7f528",
   "metadata": {},
   "outputs": [],
   "source": []
  },
  {
   "cell_type": "code",
   "execution_count": 89,
   "id": "582b3f08-16ac-4594-8e95-82f74208ad08",
   "metadata": {},
   "outputs": [],
   "source": [
    "t = rdf['Height'].str.split('-', expand=True)"
   ]
  },
  {
   "cell_type": "code",
   "execution_count": 90,
   "id": "9090ab4a-b68c-4ac0-bae9-4487aeb4690c",
   "metadata": {},
   "outputs": [
    {
     "data": {
      "text/plain": [
       "(5583, 2)"
      ]
     },
     "execution_count": 90,
     "metadata": {},
     "output_type": "execute_result"
    }
   ],
   "source": [
    "t.shape"
   ]
  },
  {
   "cell_type": "code",
   "execution_count": 93,
   "id": "1d979c56-780e-4f14-9e50-557cf67a8eca",
   "metadata": {},
   "outputs": [
    {
     "data": {
      "text/html": [
       "<div>\n",
       "<style scoped>\n",
       "    .dataframe tbody tr th:only-of-type {\n",
       "        vertical-align: middle;\n",
       "    }\n",
       "\n",
       "    .dataframe tbody tr th {\n",
       "        vertical-align: top;\n",
       "    }\n",
       "\n",
       "    .dataframe thead th {\n",
       "        text-align: right;\n",
       "    }\n",
       "</style>\n",
       "<table border=\"1\" class=\"dataframe\">\n",
       "  <thead>\n",
       "    <tr style=\"text-align: right;\">\n",
       "      <th></th>\n",
       "      <th>0</th>\n",
       "      <th>1</th>\n",
       "    </tr>\n",
       "  </thead>\n",
       "  <tbody>\n",
       "    <tr>\n",
       "      <th>0</th>\n",
       "      <td>6</td>\n",
       "      <td>5</td>\n",
       "    </tr>\n",
       "    <tr>\n",
       "      <th>1</th>\n",
       "      <td>6</td>\n",
       "      <td>4</td>\n",
       "    </tr>\n",
       "    <tr>\n",
       "      <th>2</th>\n",
       "      <td>6</td>\n",
       "      <td>5</td>\n",
       "    </tr>\n",
       "    <tr>\n",
       "      <th>3</th>\n",
       "      <td>6</td>\n",
       "      <td>4</td>\n",
       "    </tr>\n",
       "    <tr>\n",
       "      <th>4</th>\n",
       "      <td>5</td>\n",
       "      <td>7</td>\n",
       "    </tr>\n",
       "  </tbody>\n",
       "</table>\n",
       "</div>"
      ],
      "text/plain": [
       "   0  1\n",
       "0  6  5\n",
       "1  6  4\n",
       "2  6  5\n",
       "3  6  4\n",
       "4  5  7"
      ]
     },
     "execution_count": 93,
     "metadata": {},
     "output_type": "execute_result"
    }
   ],
   "source": [
    "t.head()"
   ]
  },
  {
   "cell_type": "code",
   "execution_count": 95,
   "id": "06827aea-0681-4410-bbcd-7bd89842ba4a",
   "metadata": {},
   "outputs": [
    {
     "name": "stdout",
     "output_type": "stream",
     "text": [
      "<class 'pandas.core.frame.DataFrame'>\n",
      "Int64Index: 5583 entries, 0 to 5613\n",
      "Data columns (total 2 columns):\n",
      " #   Column  Non-Null Count  Dtype \n",
      "---  ------  --------------  ----- \n",
      " 0   0       5583 non-null   object\n",
      " 1   1       5583 non-null   object\n",
      "dtypes: object(2)\n",
      "memory usage: 130.9+ KB\n"
     ]
    }
   ],
   "source": [
    "t.info()"
   ]
  },
  {
   "cell_type": "code",
   "execution_count": 94,
   "id": "4c0134f6-e5fd-487e-80d5-59715658a652",
   "metadata": {},
   "outputs": [
    {
     "data": {
      "text/html": [
       "<div>\n",
       "<style scoped>\n",
       "    .dataframe tbody tr th:only-of-type {\n",
       "        vertical-align: middle;\n",
       "    }\n",
       "\n",
       "    .dataframe tbody tr th {\n",
       "        vertical-align: top;\n",
       "    }\n",
       "\n",
       "    .dataframe thead th {\n",
       "        text-align: right;\n",
       "    }\n",
       "</style>\n",
       "<table border=\"1\" class=\"dataframe\">\n",
       "  <thead>\n",
       "    <tr style=\"text-align: right;\">\n",
       "      <th></th>\n",
       "      <th>0</th>\n",
       "      <th>1</th>\n",
       "    </tr>\n",
       "  </thead>\n",
       "  <tbody>\n",
       "    <tr>\n",
       "      <th>0</th>\n",
       "      <td>6</td>\n",
       "      <td>5</td>\n",
       "    </tr>\n",
       "    <tr>\n",
       "      <th>1</th>\n",
       "      <td>6</td>\n",
       "      <td>4</td>\n",
       "    </tr>\n",
       "    <tr>\n",
       "      <th>2</th>\n",
       "      <td>6</td>\n",
       "      <td>5</td>\n",
       "    </tr>\n",
       "    <tr>\n",
       "      <th>3</th>\n",
       "      <td>6</td>\n",
       "      <td>4</td>\n",
       "    </tr>\n",
       "    <tr>\n",
       "      <th>4</th>\n",
       "      <td>5</td>\n",
       "      <td>7</td>\n",
       "    </tr>\n",
       "  </tbody>\n",
       "</table>\n",
       "</div>"
      ],
      "text/plain": [
       "   0  1\n",
       "0  6  5\n",
       "1  6  4\n",
       "2  6  5\n",
       "3  6  4\n",
       "4  5  7"
      ]
     },
     "execution_count": 94,
     "metadata": {},
     "output_type": "execute_result"
    }
   ],
   "source": [
    "t[~t.isna()].head()"
   ]
  },
  {
   "cell_type": "code",
   "execution_count": 117,
   "id": "d22c6fdf-1975-47f7-a3dd-0aaf4e0e0003",
   "metadata": {},
   "outputs": [
    {
     "data": {
      "text/plain": [
       "'6'"
      ]
     },
     "execution_count": 117,
     "metadata": {},
     "output_type": "execute_result"
    }
   ],
   "source": [
    "t.iloc[1, 0]"
   ]
  },
  {
   "cell_type": "code",
   "execution_count": 120,
   "id": "a58b8568-db37-408e-a43e-a8625f4ab47c",
   "metadata": {},
   "outputs": [
    {
     "data": {
      "text/html": [
       "<div>\n",
       "<style scoped>\n",
       "    .dataframe tbody tr th:only-of-type {\n",
       "        vertical-align: middle;\n",
       "    }\n",
       "\n",
       "    .dataframe tbody tr th {\n",
       "        vertical-align: top;\n",
       "    }\n",
       "\n",
       "    .dataframe thead th {\n",
       "        text-align: right;\n",
       "    }\n",
       "</style>\n",
       "<table border=\"1\" class=\"dataframe\">\n",
       "  <thead>\n",
       "    <tr style=\"text-align: right;\">\n",
       "      <th></th>\n",
       "      <th>0</th>\n",
       "      <th>1</th>\n",
       "    </tr>\n",
       "  </thead>\n",
       "  <tbody>\n",
       "    <tr>\n",
       "      <th>846</th>\n",
       "      <td>6</td>\n",
       "      <td>3.5</td>\n",
       "    </tr>\n",
       "  </tbody>\n",
       "</table>\n",
       "</div>"
      ],
      "text/plain": [
       "     0    1\n",
       "846  6  3.5"
      ]
     },
     "execution_count": 120,
     "metadata": {},
     "output_type": "execute_result"
    }
   ],
   "source": [
    "t[t[1].str.contains('.', na=False, regex=False)].head()"
   ]
  },
  {
   "cell_type": "code",
   "execution_count": 101,
   "id": "d40000e0-3852-4d7c-b66a-9c5206707b51",
   "metadata": {},
   "outputs": [
    {
     "data": {
      "text/plain": [
       "0.5"
      ]
     },
     "execution_count": 101,
     "metadata": {},
     "output_type": "execute_result"
    }
   ],
   "source": [
    "3.5%1"
   ]
  },
  {
   "cell_type": "code",
   "execution_count": 102,
   "id": "afdbf24a-043e-4529-9d03-4cdc2afe68be",
   "metadata": {},
   "outputs": [
    {
     "data": {
      "text/plain": [
       "0"
      ]
     },
     "execution_count": 102,
     "metadata": {},
     "output_type": "execute_result"
    }
   ],
   "source": [
    "4%1"
   ]
  },
  {
   "cell_type": "code",
   "execution_count": 107,
   "id": "37bec537-ce3a-4f60-a239-8f3e26707d5c",
   "metadata": {},
   "outputs": [
    {
     "data": {
      "text/html": [
       "<div>\n",
       "<style scoped>\n",
       "    .dataframe tbody tr th:only-of-type {\n",
       "        vertical-align: middle;\n",
       "    }\n",
       "\n",
       "    .dataframe tbody tr th {\n",
       "        vertical-align: top;\n",
       "    }\n",
       "\n",
       "    .dataframe thead th {\n",
       "        text-align: right;\n",
       "    }\n",
       "</style>\n",
       "<table border=\"1\" class=\"dataframe\">\n",
       "  <thead>\n",
       "    <tr style=\"text-align: right;\">\n",
       "      <th></th>\n",
       "      <th>0</th>\n",
       "      <th>1</th>\n",
       "    </tr>\n",
       "  </thead>\n",
       "  <tbody>\n",
       "    <tr>\n",
       "      <th>846</th>\n",
       "      <td>6</td>\n",
       "      <td>3.5</td>\n",
       "    </tr>\n",
       "  </tbody>\n",
       "</table>\n",
       "</div>"
      ],
      "text/plain": [
       "     0    1\n",
       "846  6  3.5"
      ]
     },
     "execution_count": 107,
     "metadata": {},
     "output_type": "execute_result"
    }
   ],
   "source": [
    "t[t[1] == '3.5']"
   ]
  },
  {
   "cell_type": "code",
   "execution_count": 109,
   "id": "38d9d16e-4c4c-437a-90cd-9aa12b849952",
   "metadata": {},
   "outputs": [
    {
     "data": {
      "text/plain": [
       "'3'"
      ]
     },
     "execution_count": 109,
     "metadata": {},
     "output_type": "execute_result"
    }
   ],
   "source": [
    "'3.5'.split('.')[0]"
   ]
  },
  {
   "cell_type": "code",
   "execution_count": 125,
   "id": "ba9bf008-9f05-45b0-a200-8c9fc680a19a",
   "metadata": {},
   "outputs": [
    {
     "data": {
      "text/plain": [
       "'3'"
      ]
     },
     "execution_count": 125,
     "metadata": {},
     "output_type": "execute_result"
    }
   ],
   "source": [
    "'3.5'[:'3.5'.find('.')]"
   ]
  },
  {
   "cell_type": "code",
   "execution_count": null,
   "id": "dc7dc35a-e604-4ce6-a30a-42eaa1554640",
   "metadata": {},
   "outputs": [],
   "source": []
  },
  {
   "cell_type": "code",
   "execution_count": 121,
   "id": "91c0ae8a-2b35-4ebd-b80e-e9eb6bf699b4",
   "metadata": {},
   "outputs": [
    {
     "data": {
      "text/plain": [
       "True"
      ]
     },
     "execution_count": 121,
     "metadata": {},
     "output_type": "execute_result"
    }
   ],
   "source": [
    "'.' in ('3.5')"
   ]
  },
  {
   "cell_type": "code",
   "execution_count": 66,
   "id": "8d375e97-4172-479b-b111-42c12227eb74",
   "metadata": {},
   "outputs": [],
   "source": [
    "t = t[~t[0].isna()]"
   ]
  },
  {
   "cell_type": "code",
   "execution_count": 98,
   "id": "c380efbe-3b69-4560-aade-79623eaecdc0",
   "metadata": {},
   "outputs": [
    {
     "data": {
      "text/plain": [
       "0       6\n",
       "1       6\n",
       "2       6\n",
       "3       6\n",
       "4       5\n",
       "       ..\n",
       "5609    5\n",
       "5610    6\n",
       "5611    6\n",
       "5612    6\n",
       "5613    6\n",
       "Name: 0, Length: 5583, dtype: int64"
      ]
     },
     "execution_count": 98,
     "metadata": {},
     "output_type": "execute_result"
    }
   ],
   "source": [
    "t[0].astype(int)"
   ]
  },
  {
   "cell_type": "code",
   "execution_count": 100,
   "id": "506ee991-2df9-46bf-b8ee-11b6b00372ea",
   "metadata": {},
   "outputs": [
    {
     "data": {
      "text/plain": [
       "RangeIndex(start=0, stop=2, step=1)"
      ]
     },
     "execution_count": 100,
     "metadata": {},
     "output_type": "execute_result"
    }
   ],
   "source": [
    "t.columns"
   ]
  },
  {
   "cell_type": "code",
   "execution_count": 99,
   "id": "d3945b19-82e0-41c8-8b6a-6f5f57b6ebe7",
   "metadata": {},
   "outputs": [
    {
     "ename": "ValueError",
     "evalue": "invalid literal for int() with base 10: '3.5'",
     "output_type": "error",
     "traceback": [
      "\u001b[0;31m---------------------------------------------------------------------------\u001b[0m",
      "\u001b[0;31mValueError\u001b[0m                                Traceback (most recent call last)",
      "\u001b[0;32m<ipython-input-99-224c6f0eb5bc>\u001b[0m in \u001b[0;36m<module>\u001b[0;34m\u001b[0m\n\u001b[0;32m----> 1\u001b[0;31m \u001b[0mt\u001b[0m\u001b[0;34m[\u001b[0m\u001b[0;36m1\u001b[0m\u001b[0;34m]\u001b[0m\u001b[0;34m.\u001b[0m\u001b[0mastype\u001b[0m\u001b[0;34m(\u001b[0m\u001b[0mint\u001b[0m\u001b[0;34m)\u001b[0m\u001b[0;34m\u001b[0m\u001b[0;34m\u001b[0m\u001b[0m\n\u001b[0m",
      "\u001b[0;32m/opt/anaconda3/lib/python3.8/site-packages/pandas/core/generic.py\u001b[0m in \u001b[0;36mastype\u001b[0;34m(self, dtype, copy, errors)\u001b[0m\n\u001b[1;32m   5696\u001b[0m         \u001b[0;32melse\u001b[0m\u001b[0;34m:\u001b[0m\u001b[0;34m\u001b[0m\u001b[0;34m\u001b[0m\u001b[0m\n\u001b[1;32m   5697\u001b[0m             \u001b[0;31m# else, only a single dtype is given\u001b[0m\u001b[0;34m\u001b[0m\u001b[0;34m\u001b[0m\u001b[0;34m\u001b[0m\u001b[0m\n\u001b[0;32m-> 5698\u001b[0;31m             \u001b[0mnew_data\u001b[0m \u001b[0;34m=\u001b[0m \u001b[0mself\u001b[0m\u001b[0;34m.\u001b[0m\u001b[0m_data\u001b[0m\u001b[0;34m.\u001b[0m\u001b[0mastype\u001b[0m\u001b[0;34m(\u001b[0m\u001b[0mdtype\u001b[0m\u001b[0;34m=\u001b[0m\u001b[0mdtype\u001b[0m\u001b[0;34m,\u001b[0m \u001b[0mcopy\u001b[0m\u001b[0;34m=\u001b[0m\u001b[0mcopy\u001b[0m\u001b[0;34m,\u001b[0m \u001b[0merrors\u001b[0m\u001b[0;34m=\u001b[0m\u001b[0merrors\u001b[0m\u001b[0;34m)\u001b[0m\u001b[0;34m\u001b[0m\u001b[0;34m\u001b[0m\u001b[0m\n\u001b[0m\u001b[1;32m   5699\u001b[0m             \u001b[0;32mreturn\u001b[0m \u001b[0mself\u001b[0m\u001b[0;34m.\u001b[0m\u001b[0m_constructor\u001b[0m\u001b[0;34m(\u001b[0m\u001b[0mnew_data\u001b[0m\u001b[0;34m)\u001b[0m\u001b[0;34m.\u001b[0m\u001b[0m__finalize__\u001b[0m\u001b[0;34m(\u001b[0m\u001b[0mself\u001b[0m\u001b[0;34m)\u001b[0m\u001b[0;34m\u001b[0m\u001b[0;34m\u001b[0m\u001b[0m\n\u001b[1;32m   5700\u001b[0m \u001b[0;34m\u001b[0m\u001b[0m\n",
      "\u001b[0;32m/opt/anaconda3/lib/python3.8/site-packages/pandas/core/internals/managers.py\u001b[0m in \u001b[0;36mastype\u001b[0;34m(self, dtype, copy, errors)\u001b[0m\n\u001b[1;32m    580\u001b[0m \u001b[0;34m\u001b[0m\u001b[0m\n\u001b[1;32m    581\u001b[0m     \u001b[0;32mdef\u001b[0m \u001b[0mastype\u001b[0m\u001b[0;34m(\u001b[0m\u001b[0mself\u001b[0m\u001b[0;34m,\u001b[0m \u001b[0mdtype\u001b[0m\u001b[0;34m,\u001b[0m \u001b[0mcopy\u001b[0m\u001b[0;34m:\u001b[0m \u001b[0mbool\u001b[0m \u001b[0;34m=\u001b[0m \u001b[0;32mFalse\u001b[0m\u001b[0;34m,\u001b[0m \u001b[0merrors\u001b[0m\u001b[0;34m:\u001b[0m \u001b[0mstr\u001b[0m \u001b[0;34m=\u001b[0m \u001b[0;34m\"raise\"\u001b[0m\u001b[0;34m)\u001b[0m\u001b[0;34m:\u001b[0m\u001b[0;34m\u001b[0m\u001b[0;34m\u001b[0m\u001b[0m\n\u001b[0;32m--> 582\u001b[0;31m         \u001b[0;32mreturn\u001b[0m \u001b[0mself\u001b[0m\u001b[0;34m.\u001b[0m\u001b[0mapply\u001b[0m\u001b[0;34m(\u001b[0m\u001b[0;34m\"astype\"\u001b[0m\u001b[0;34m,\u001b[0m \u001b[0mdtype\u001b[0m\u001b[0;34m=\u001b[0m\u001b[0mdtype\u001b[0m\u001b[0;34m,\u001b[0m \u001b[0mcopy\u001b[0m\u001b[0;34m=\u001b[0m\u001b[0mcopy\u001b[0m\u001b[0;34m,\u001b[0m \u001b[0merrors\u001b[0m\u001b[0;34m=\u001b[0m\u001b[0merrors\u001b[0m\u001b[0;34m)\u001b[0m\u001b[0;34m\u001b[0m\u001b[0;34m\u001b[0m\u001b[0m\n\u001b[0m\u001b[1;32m    583\u001b[0m \u001b[0;34m\u001b[0m\u001b[0m\n\u001b[1;32m    584\u001b[0m     \u001b[0;32mdef\u001b[0m \u001b[0mconvert\u001b[0m\u001b[0;34m(\u001b[0m\u001b[0mself\u001b[0m\u001b[0;34m,\u001b[0m \u001b[0;34m**\u001b[0m\u001b[0mkwargs\u001b[0m\u001b[0;34m)\u001b[0m\u001b[0;34m:\u001b[0m\u001b[0;34m\u001b[0m\u001b[0;34m\u001b[0m\u001b[0m\n",
      "\u001b[0;32m/opt/anaconda3/lib/python3.8/site-packages/pandas/core/internals/managers.py\u001b[0m in \u001b[0;36mapply\u001b[0;34m(self, f, filter, **kwargs)\u001b[0m\n\u001b[1;32m    440\u001b[0m                 \u001b[0mapplied\u001b[0m \u001b[0;34m=\u001b[0m \u001b[0mb\u001b[0m\u001b[0;34m.\u001b[0m\u001b[0mapply\u001b[0m\u001b[0;34m(\u001b[0m\u001b[0mf\u001b[0m\u001b[0;34m,\u001b[0m \u001b[0;34m**\u001b[0m\u001b[0mkwargs\u001b[0m\u001b[0;34m)\u001b[0m\u001b[0;34m\u001b[0m\u001b[0;34m\u001b[0m\u001b[0m\n\u001b[1;32m    441\u001b[0m             \u001b[0;32melse\u001b[0m\u001b[0;34m:\u001b[0m\u001b[0;34m\u001b[0m\u001b[0;34m\u001b[0m\u001b[0m\n\u001b[0;32m--> 442\u001b[0;31m                 \u001b[0mapplied\u001b[0m \u001b[0;34m=\u001b[0m \u001b[0mgetattr\u001b[0m\u001b[0;34m(\u001b[0m\u001b[0mb\u001b[0m\u001b[0;34m,\u001b[0m \u001b[0mf\u001b[0m\u001b[0;34m)\u001b[0m\u001b[0;34m(\u001b[0m\u001b[0;34m**\u001b[0m\u001b[0mkwargs\u001b[0m\u001b[0;34m)\u001b[0m\u001b[0;34m\u001b[0m\u001b[0;34m\u001b[0m\u001b[0m\n\u001b[0m\u001b[1;32m    443\u001b[0m             \u001b[0mresult_blocks\u001b[0m \u001b[0;34m=\u001b[0m \u001b[0m_extend_blocks\u001b[0m\u001b[0;34m(\u001b[0m\u001b[0mapplied\u001b[0m\u001b[0;34m,\u001b[0m \u001b[0mresult_blocks\u001b[0m\u001b[0;34m)\u001b[0m\u001b[0;34m\u001b[0m\u001b[0;34m\u001b[0m\u001b[0m\n\u001b[1;32m    444\u001b[0m \u001b[0;34m\u001b[0m\u001b[0m\n",
      "\u001b[0;32m/opt/anaconda3/lib/python3.8/site-packages/pandas/core/internals/blocks.py\u001b[0m in \u001b[0;36mastype\u001b[0;34m(self, dtype, copy, errors)\u001b[0m\n\u001b[1;32m    623\u001b[0m             \u001b[0mvals1d\u001b[0m \u001b[0;34m=\u001b[0m \u001b[0mvalues\u001b[0m\u001b[0;34m.\u001b[0m\u001b[0mravel\u001b[0m\u001b[0;34m(\u001b[0m\u001b[0;34m)\u001b[0m\u001b[0;34m\u001b[0m\u001b[0;34m\u001b[0m\u001b[0m\n\u001b[1;32m    624\u001b[0m             \u001b[0;32mtry\u001b[0m\u001b[0;34m:\u001b[0m\u001b[0;34m\u001b[0m\u001b[0;34m\u001b[0m\u001b[0m\n\u001b[0;32m--> 625\u001b[0;31m                 \u001b[0mvalues\u001b[0m \u001b[0;34m=\u001b[0m \u001b[0mastype_nansafe\u001b[0m\u001b[0;34m(\u001b[0m\u001b[0mvals1d\u001b[0m\u001b[0;34m,\u001b[0m \u001b[0mdtype\u001b[0m\u001b[0;34m,\u001b[0m \u001b[0mcopy\u001b[0m\u001b[0;34m=\u001b[0m\u001b[0;32mTrue\u001b[0m\u001b[0;34m)\u001b[0m\u001b[0;34m\u001b[0m\u001b[0;34m\u001b[0m\u001b[0m\n\u001b[0m\u001b[1;32m    626\u001b[0m             \u001b[0;32mexcept\u001b[0m \u001b[0;34m(\u001b[0m\u001b[0mValueError\u001b[0m\u001b[0;34m,\u001b[0m \u001b[0mTypeError\u001b[0m\u001b[0;34m)\u001b[0m\u001b[0;34m:\u001b[0m\u001b[0;34m\u001b[0m\u001b[0;34m\u001b[0m\u001b[0m\n\u001b[1;32m    627\u001b[0m                 \u001b[0;31m# e.g. astype_nansafe can fail on object-dtype of strings\u001b[0m\u001b[0;34m\u001b[0m\u001b[0;34m\u001b[0m\u001b[0;34m\u001b[0m\u001b[0m\n",
      "\u001b[0;32m/opt/anaconda3/lib/python3.8/site-packages/pandas/core/dtypes/cast.py\u001b[0m in \u001b[0;36mastype_nansafe\u001b[0;34m(arr, dtype, copy, skipna)\u001b[0m\n\u001b[1;32m    872\u001b[0m         \u001b[0;31m# work around NumPy brokenness, #1987\u001b[0m\u001b[0;34m\u001b[0m\u001b[0;34m\u001b[0m\u001b[0;34m\u001b[0m\u001b[0m\n\u001b[1;32m    873\u001b[0m         \u001b[0;32mif\u001b[0m \u001b[0mnp\u001b[0m\u001b[0;34m.\u001b[0m\u001b[0missubdtype\u001b[0m\u001b[0;34m(\u001b[0m\u001b[0mdtype\u001b[0m\u001b[0;34m.\u001b[0m\u001b[0mtype\u001b[0m\u001b[0;34m,\u001b[0m \u001b[0mnp\u001b[0m\u001b[0;34m.\u001b[0m\u001b[0minteger\u001b[0m\u001b[0;34m)\u001b[0m\u001b[0;34m:\u001b[0m\u001b[0;34m\u001b[0m\u001b[0;34m\u001b[0m\u001b[0m\n\u001b[0;32m--> 874\u001b[0;31m             \u001b[0;32mreturn\u001b[0m \u001b[0mlib\u001b[0m\u001b[0;34m.\u001b[0m\u001b[0mastype_intsafe\u001b[0m\u001b[0;34m(\u001b[0m\u001b[0marr\u001b[0m\u001b[0;34m.\u001b[0m\u001b[0mravel\u001b[0m\u001b[0;34m(\u001b[0m\u001b[0;34m)\u001b[0m\u001b[0;34m,\u001b[0m \u001b[0mdtype\u001b[0m\u001b[0;34m)\u001b[0m\u001b[0;34m.\u001b[0m\u001b[0mreshape\u001b[0m\u001b[0;34m(\u001b[0m\u001b[0marr\u001b[0m\u001b[0;34m.\u001b[0m\u001b[0mshape\u001b[0m\u001b[0;34m)\u001b[0m\u001b[0;34m\u001b[0m\u001b[0;34m\u001b[0m\u001b[0m\n\u001b[0m\u001b[1;32m    875\u001b[0m \u001b[0;34m\u001b[0m\u001b[0m\n\u001b[1;32m    876\u001b[0m         \u001b[0;31m# if we have a datetime/timedelta array of objects\u001b[0m\u001b[0;34m\u001b[0m\u001b[0;34m\u001b[0m\u001b[0;34m\u001b[0m\u001b[0m\n",
      "\u001b[0;32mpandas/_libs/lib.pyx\u001b[0m in \u001b[0;36mpandas._libs.lib.astype_intsafe\u001b[0;34m()\u001b[0m\n",
      "\u001b[0;31mValueError\u001b[0m: invalid literal for int() with base 10: '3.5'"
     ]
    }
   ],
   "source": [
    "t[1].astype(int)"
   ]
  },
  {
   "cell_type": "code",
   "execution_count": 96,
   "id": "ac970981-8b68-4b04-83af-ef85e4034ad2",
   "metadata": {},
   "outputs": [],
   "source": [
    "def height_in(row):\n",
    "    row['Hf'] = int(row['Height'][0])\n",
    "    row['Hi'] = int(row['Height'][1:].replace(\"-\", \"\"))\n",
    "    row['Height'] = row['Hf'] * 12 + row['Hi']\n",
    "    return row"
   ]
  },
  {
   "cell_type": "code",
   "execution_count": 97,
   "id": "2729fffa-cd23-440c-b884-041ae32a0b13",
   "metadata": {},
   "outputs": [
    {
     "ename": "ValueError",
     "evalue": "invalid literal for int() with base 10: '3.5'",
     "output_type": "error",
     "traceback": [
      "\u001b[0;31m---------------------------------------------------------------------------\u001b[0m",
      "\u001b[0;31mValueError\u001b[0m                                Traceback (most recent call last)",
      "\u001b[0;32m<ipython-input-97-f88243ae80e8>\u001b[0m in \u001b[0;36m<module>\u001b[0;34m\u001b[0m\n\u001b[0;32m----> 1\u001b[0;31m \u001b[0mrdf\u001b[0m \u001b[0;34m=\u001b[0m \u001b[0mrdf\u001b[0m\u001b[0;34m.\u001b[0m\u001b[0mapply\u001b[0m\u001b[0;34m(\u001b[0m\u001b[0mheight_in\u001b[0m\u001b[0;34m,\u001b[0m \u001b[0maxis\u001b[0m\u001b[0;34m=\u001b[0m\u001b[0;36m1\u001b[0m\u001b[0;34m)\u001b[0m\u001b[0;34m\u001b[0m\u001b[0;34m\u001b[0m\u001b[0m\n\u001b[0m",
      "\u001b[0;32m/opt/anaconda3/lib/python3.8/site-packages/pandas/core/frame.py\u001b[0m in \u001b[0;36mapply\u001b[0;34m(self, func, axis, raw, result_type, args, **kwds)\u001b[0m\n\u001b[1;32m   6876\u001b[0m             \u001b[0mkwds\u001b[0m\u001b[0;34m=\u001b[0m\u001b[0mkwds\u001b[0m\u001b[0;34m,\u001b[0m\u001b[0;34m\u001b[0m\u001b[0;34m\u001b[0m\u001b[0m\n\u001b[1;32m   6877\u001b[0m         )\n\u001b[0;32m-> 6878\u001b[0;31m         \u001b[0;32mreturn\u001b[0m \u001b[0mop\u001b[0m\u001b[0;34m.\u001b[0m\u001b[0mget_result\u001b[0m\u001b[0;34m(\u001b[0m\u001b[0;34m)\u001b[0m\u001b[0;34m\u001b[0m\u001b[0;34m\u001b[0m\u001b[0m\n\u001b[0m\u001b[1;32m   6879\u001b[0m \u001b[0;34m\u001b[0m\u001b[0m\n\u001b[1;32m   6880\u001b[0m     \u001b[0;32mdef\u001b[0m \u001b[0mapplymap\u001b[0m\u001b[0;34m(\u001b[0m\u001b[0mself\u001b[0m\u001b[0;34m,\u001b[0m \u001b[0mfunc\u001b[0m\u001b[0;34m)\u001b[0m \u001b[0;34m->\u001b[0m \u001b[0;34m\"DataFrame\"\u001b[0m\u001b[0;34m:\u001b[0m\u001b[0;34m\u001b[0m\u001b[0;34m\u001b[0m\u001b[0m\n",
      "\u001b[0;32m/opt/anaconda3/lib/python3.8/site-packages/pandas/core/apply.py\u001b[0m in \u001b[0;36mget_result\u001b[0;34m(self)\u001b[0m\n\u001b[1;32m    184\u001b[0m             \u001b[0;32mreturn\u001b[0m \u001b[0mself\u001b[0m\u001b[0;34m.\u001b[0m\u001b[0mapply_raw\u001b[0m\u001b[0;34m(\u001b[0m\u001b[0;34m)\u001b[0m\u001b[0;34m\u001b[0m\u001b[0;34m\u001b[0m\u001b[0m\n\u001b[1;32m    185\u001b[0m \u001b[0;34m\u001b[0m\u001b[0m\n\u001b[0;32m--> 186\u001b[0;31m         \u001b[0;32mreturn\u001b[0m \u001b[0mself\u001b[0m\u001b[0;34m.\u001b[0m\u001b[0mapply_standard\u001b[0m\u001b[0;34m(\u001b[0m\u001b[0;34m)\u001b[0m\u001b[0;34m\u001b[0m\u001b[0;34m\u001b[0m\u001b[0m\n\u001b[0m\u001b[1;32m    187\u001b[0m \u001b[0;34m\u001b[0m\u001b[0m\n\u001b[1;32m    188\u001b[0m     \u001b[0;32mdef\u001b[0m \u001b[0mapply_empty_result\u001b[0m\u001b[0;34m(\u001b[0m\u001b[0mself\u001b[0m\u001b[0;34m)\u001b[0m\u001b[0;34m:\u001b[0m\u001b[0;34m\u001b[0m\u001b[0;34m\u001b[0m\u001b[0m\n",
      "\u001b[0;32m/opt/anaconda3/lib/python3.8/site-packages/pandas/core/apply.py\u001b[0m in \u001b[0;36mapply_standard\u001b[0;34m(self)\u001b[0m\n\u001b[1;32m    311\u001b[0m \u001b[0;34m\u001b[0m\u001b[0m\n\u001b[1;32m    312\u001b[0m         \u001b[0;31m# compute the result using the series generator\u001b[0m\u001b[0;34m\u001b[0m\u001b[0;34m\u001b[0m\u001b[0;34m\u001b[0m\u001b[0m\n\u001b[0;32m--> 313\u001b[0;31m         \u001b[0mresults\u001b[0m\u001b[0;34m,\u001b[0m \u001b[0mres_index\u001b[0m \u001b[0;34m=\u001b[0m \u001b[0mself\u001b[0m\u001b[0;34m.\u001b[0m\u001b[0mapply_series_generator\u001b[0m\u001b[0;34m(\u001b[0m\u001b[0;34m)\u001b[0m\u001b[0;34m\u001b[0m\u001b[0;34m\u001b[0m\u001b[0m\n\u001b[0m\u001b[1;32m    314\u001b[0m \u001b[0;34m\u001b[0m\u001b[0m\n\u001b[1;32m    315\u001b[0m         \u001b[0;31m# wrap results\u001b[0m\u001b[0;34m\u001b[0m\u001b[0;34m\u001b[0m\u001b[0;34m\u001b[0m\u001b[0m\n",
      "\u001b[0;32m/opt/anaconda3/lib/python3.8/site-packages/pandas/core/apply.py\u001b[0m in \u001b[0;36mapply_series_generator\u001b[0;34m(self)\u001b[0m\n\u001b[1;32m    339\u001b[0m         \u001b[0;32melse\u001b[0m\u001b[0;34m:\u001b[0m\u001b[0;34m\u001b[0m\u001b[0;34m\u001b[0m\u001b[0m\n\u001b[1;32m    340\u001b[0m             \u001b[0;32mfor\u001b[0m \u001b[0mi\u001b[0m\u001b[0;34m,\u001b[0m \u001b[0mv\u001b[0m \u001b[0;32min\u001b[0m \u001b[0menumerate\u001b[0m\u001b[0;34m(\u001b[0m\u001b[0mseries_gen\u001b[0m\u001b[0;34m)\u001b[0m\u001b[0;34m:\u001b[0m\u001b[0;34m\u001b[0m\u001b[0;34m\u001b[0m\u001b[0m\n\u001b[0;32m--> 341\u001b[0;31m                 \u001b[0mresults\u001b[0m\u001b[0;34m[\u001b[0m\u001b[0mi\u001b[0m\u001b[0;34m]\u001b[0m \u001b[0;34m=\u001b[0m \u001b[0mself\u001b[0m\u001b[0;34m.\u001b[0m\u001b[0mf\u001b[0m\u001b[0;34m(\u001b[0m\u001b[0mv\u001b[0m\u001b[0;34m)\u001b[0m\u001b[0;34m\u001b[0m\u001b[0;34m\u001b[0m\u001b[0m\n\u001b[0m\u001b[1;32m    342\u001b[0m                 \u001b[0mkeys\u001b[0m\u001b[0;34m.\u001b[0m\u001b[0mappend\u001b[0m\u001b[0;34m(\u001b[0m\u001b[0mv\u001b[0m\u001b[0;34m.\u001b[0m\u001b[0mname\u001b[0m\u001b[0;34m)\u001b[0m\u001b[0;34m\u001b[0m\u001b[0;34m\u001b[0m\u001b[0m\n\u001b[1;32m    343\u001b[0m \u001b[0;34m\u001b[0m\u001b[0m\n",
      "\u001b[0;32m<ipython-input-96-d0ac7428c8e6>\u001b[0m in \u001b[0;36mheight_in\u001b[0;34m(row)\u001b[0m\n\u001b[1;32m      1\u001b[0m \u001b[0;32mdef\u001b[0m \u001b[0mheight_in\u001b[0m\u001b[0;34m(\u001b[0m\u001b[0mrow\u001b[0m\u001b[0;34m)\u001b[0m\u001b[0;34m:\u001b[0m\u001b[0;34m\u001b[0m\u001b[0;34m\u001b[0m\u001b[0m\n\u001b[1;32m      2\u001b[0m     \u001b[0mrow\u001b[0m\u001b[0;34m[\u001b[0m\u001b[0;34m'Hf'\u001b[0m\u001b[0;34m]\u001b[0m \u001b[0;34m=\u001b[0m \u001b[0mint\u001b[0m\u001b[0;34m(\u001b[0m\u001b[0mrow\u001b[0m\u001b[0;34m[\u001b[0m\u001b[0;34m'Height'\u001b[0m\u001b[0;34m]\u001b[0m\u001b[0;34m[\u001b[0m\u001b[0;36m0\u001b[0m\u001b[0;34m]\u001b[0m\u001b[0;34m)\u001b[0m\u001b[0;34m\u001b[0m\u001b[0;34m\u001b[0m\u001b[0m\n\u001b[0;32m----> 3\u001b[0;31m     \u001b[0mrow\u001b[0m\u001b[0;34m[\u001b[0m\u001b[0;34m'Hi'\u001b[0m\u001b[0;34m]\u001b[0m \u001b[0;34m=\u001b[0m \u001b[0mint\u001b[0m\u001b[0;34m(\u001b[0m\u001b[0mrow\u001b[0m\u001b[0;34m[\u001b[0m\u001b[0;34m'Height'\u001b[0m\u001b[0;34m]\u001b[0m\u001b[0;34m[\u001b[0m\u001b[0;36m1\u001b[0m\u001b[0;34m:\u001b[0m\u001b[0;34m]\u001b[0m\u001b[0;34m.\u001b[0m\u001b[0mreplace\u001b[0m\u001b[0;34m(\u001b[0m\u001b[0;34m\"-\"\u001b[0m\u001b[0;34m,\u001b[0m \u001b[0;34m\"\"\u001b[0m\u001b[0;34m)\u001b[0m\u001b[0;34m)\u001b[0m\u001b[0;34m\u001b[0m\u001b[0;34m\u001b[0m\u001b[0m\n\u001b[0m\u001b[1;32m      4\u001b[0m     \u001b[0mrow\u001b[0m\u001b[0;34m[\u001b[0m\u001b[0;34m'Height'\u001b[0m\u001b[0;34m]\u001b[0m \u001b[0;34m=\u001b[0m \u001b[0mrow\u001b[0m\u001b[0;34m[\u001b[0m\u001b[0;34m'Hf'\u001b[0m\u001b[0;34m]\u001b[0m \u001b[0;34m*\u001b[0m \u001b[0;36m12\u001b[0m \u001b[0;34m+\u001b[0m \u001b[0mrow\u001b[0m\u001b[0;34m[\u001b[0m\u001b[0;34m'Hi'\u001b[0m\u001b[0;34m]\u001b[0m\u001b[0;34m\u001b[0m\u001b[0;34m\u001b[0m\u001b[0m\n\u001b[1;32m      5\u001b[0m     \u001b[0;32mreturn\u001b[0m \u001b[0mrow\u001b[0m\u001b[0;34m\u001b[0m\u001b[0;34m\u001b[0m\u001b[0m\n",
      "\u001b[0;31mValueError\u001b[0m: invalid literal for int() with base 10: '3.5'"
     ]
    }
   ],
   "source": [
    "rdf = rdf.apply(height_in, axis=1)"
   ]
  },
  {
   "cell_type": "code",
   "execution_count": 49,
   "id": "05119dbc-2f94-405e-95cf-a3c37f5c56cb",
   "metadata": {},
   "outputs": [
    {
     "name": "stdout",
     "output_type": "stream",
     "text": [
      "<class 'pandas.core.frame.DataFrame'>\n",
      "RangeIndex: 5615 entries, 0 to 5614\n",
      "Data columns (total 7 columns):\n",
      " #   Column      Non-Null Count  Dtype  \n",
      "---  ------      --------------  -----  \n",
      " 0   Unnamed: 0  5615 non-null   int64  \n",
      " 1   Player      5615 non-null   object \n",
      " 2   Class       5609 non-null   float64\n",
      " 3   Pos         5592 non-null   object \n",
      " 4   Height      5601 non-null   object \n",
      " 5   Team        5615 non-null   object \n",
      " 6   Season      5615 non-null   int64  \n",
      "dtypes: float64(1), int64(2), object(4)\n",
      "memory usage: 307.2+ KB\n"
     ]
    }
   ],
   "source": [
    "rdf.info()"
   ]
  },
  {
   "cell_type": "code",
   "execution_count": 56,
   "id": "d4707437-d1b0-4fc6-b1a9-6c377c04d7d3",
   "metadata": {},
   "outputs": [
    {
     "data": {
      "text/plain": [
       "(14, 7)"
      ]
     },
     "execution_count": 56,
     "metadata": {},
     "output_type": "execute_result"
    }
   ],
   "source": [
    "rdf[rdf['Height'].isna()].shape"
   ]
  },
  {
   "cell_type": "code",
   "execution_count": 63,
   "id": "7e5fba09-3ae4-467c-8b50-a8b04fa9eecf",
   "metadata": {},
   "outputs": [
    {
     "data": {
      "text/html": [
       "<div>\n",
       "<style scoped>\n",
       "    .dataframe tbody tr th:only-of-type {\n",
       "        vertical-align: middle;\n",
       "    }\n",
       "\n",
       "    .dataframe tbody tr th {\n",
       "        vertical-align: top;\n",
       "    }\n",
       "\n",
       "    .dataframe thead th {\n",
       "        text-align: right;\n",
       "    }\n",
       "</style>\n",
       "<table border=\"1\" class=\"dataframe\">\n",
       "  <thead>\n",
       "    <tr style=\"text-align: right;\">\n",
       "      <th></th>\n",
       "      <th>Unnamed: 0</th>\n",
       "      <th>Player</th>\n",
       "      <th>Class</th>\n",
       "      <th>Pos</th>\n",
       "      <th>Height</th>\n",
       "      <th>Team</th>\n",
       "      <th>Season</th>\n",
       "    </tr>\n",
       "  </thead>\n",
       "  <tbody>\n",
       "    <tr>\n",
       "      <th>245</th>\n",
       "      <td>245</td>\n",
       "      <td>Trent Harris</td>\n",
       "      <td>NaN</td>\n",
       "      <td>NaN</td>\n",
       "      <td>NaN</td>\n",
       "      <td>arkansas-pine-bluff</td>\n",
       "      <td>2023</td>\n",
       "    </tr>\n",
       "    <tr>\n",
       "      <th>583</th>\n",
       "      <td>583</td>\n",
       "      <td>Martin Cohen</td>\n",
       "      <td>NaN</td>\n",
       "      <td>G</td>\n",
       "      <td>NaN</td>\n",
       "      <td>cal-poly</td>\n",
       "      <td>2023</td>\n",
       "    </tr>\n",
       "    <tr>\n",
       "      <th>1395</th>\n",
       "      <td>1395</td>\n",
       "      <td>Miles Hall</td>\n",
       "      <td>1.0</td>\n",
       "      <td>G</td>\n",
       "      <td>NaN</td>\n",
       "      <td>florida-am</td>\n",
       "      <td>2023</td>\n",
       "    </tr>\n",
       "    <tr>\n",
       "      <th>1403</th>\n",
       "      <td>1403</td>\n",
       "      <td>Caleb Muller</td>\n",
       "      <td>2.0</td>\n",
       "      <td>G</td>\n",
       "      <td>NaN</td>\n",
       "      <td>florida-am</td>\n",
       "      <td>2023</td>\n",
       "    </tr>\n",
       "    <tr>\n",
       "      <th>1406</th>\n",
       "      <td>1406</td>\n",
       "      <td>Legend Stamps</td>\n",
       "      <td>4.0</td>\n",
       "      <td>C</td>\n",
       "      <td>NaN</td>\n",
       "      <td>florida-am</td>\n",
       "      <td>2023</td>\n",
       "    </tr>\n",
       "    <tr>\n",
       "      <th>1711</th>\n",
       "      <td>1711</td>\n",
       "      <td>Tre Thomas</td>\n",
       "      <td>1.0</td>\n",
       "      <td>NaN</td>\n",
       "      <td>NaN</td>\n",
       "      <td>hampton</td>\n",
       "      <td>2023</td>\n",
       "    </tr>\n",
       "    <tr>\n",
       "      <th>2592</th>\n",
       "      <td>2592</td>\n",
       "      <td>Julian Poland</td>\n",
       "      <td>NaN</td>\n",
       "      <td>NaN</td>\n",
       "      <td>NaN</td>\n",
       "      <td>maryland-eastern-shore</td>\n",
       "      <td>2023</td>\n",
       "    </tr>\n",
       "    <tr>\n",
       "      <th>3721</th>\n",
       "      <td>3721</td>\n",
       "      <td>Mckinley Harris</td>\n",
       "      <td>3.0</td>\n",
       "      <td>NaN</td>\n",
       "      <td>NaN</td>\n",
       "      <td>prairie-view</td>\n",
       "      <td>2023</td>\n",
       "    </tr>\n",
       "    <tr>\n",
       "      <th>3724</th>\n",
       "      <td>3724</td>\n",
       "      <td>Kevin McGaskey</td>\n",
       "      <td>3.0</td>\n",
       "      <td>NaN</td>\n",
       "      <td>NaN</td>\n",
       "      <td>prairie-view</td>\n",
       "      <td>2023</td>\n",
       "    </tr>\n",
       "    <tr>\n",
       "      <th>4147</th>\n",
       "      <td>4147</td>\n",
       "      <td>Uchenna Ndigwe</td>\n",
       "      <td>3.0</td>\n",
       "      <td>G</td>\n",
       "      <td>NaN</td>\n",
       "      <td>san-jose-state</td>\n",
       "      <td>2023</td>\n",
       "    </tr>\n",
       "    <tr>\n",
       "      <th>4547</th>\n",
       "      <td>4547</td>\n",
       "      <td>Montavious Murphy</td>\n",
       "      <td>3.0</td>\n",
       "      <td>NaN</td>\n",
       "      <td>NaN</td>\n",
       "      <td>stephen-f-austin</td>\n",
       "      <td>2023</td>\n",
       "    </tr>\n",
       "    <tr>\n",
       "      <th>4548</th>\n",
       "      <td>4548</td>\n",
       "      <td>Cade Walker</td>\n",
       "      <td>1.0</td>\n",
       "      <td>NaN</td>\n",
       "      <td>NaN</td>\n",
       "      <td>stephen-f-austin</td>\n",
       "      <td>2023</td>\n",
       "    </tr>\n",
       "    <tr>\n",
       "      <th>4803</th>\n",
       "      <td>4803</td>\n",
       "      <td>Calen Holiday</td>\n",
       "      <td>1.0</td>\n",
       "      <td>NaN</td>\n",
       "      <td>NaN</td>\n",
       "      <td>texas-southern</td>\n",
       "      <td>2023</td>\n",
       "    </tr>\n",
       "    <tr>\n",
       "      <th>5169</th>\n",
       "      <td>5169</td>\n",
       "      <td>Milos Merrick</td>\n",
       "      <td>1.0</td>\n",
       "      <td>G</td>\n",
       "      <td>NaN</td>\n",
       "      <td>texas-el-paso</td>\n",
       "      <td>2023</td>\n",
       "    </tr>\n",
       "  </tbody>\n",
       "</table>\n",
       "</div>"
      ],
      "text/plain": [
       "      Unnamed: 0             Player  Class  Pos Height  \\\n",
       "245          245       Trent Harris    NaN  NaN    NaN   \n",
       "583          583       Martin Cohen    NaN    G    NaN   \n",
       "1395        1395         Miles Hall    1.0    G    NaN   \n",
       "1403        1403       Caleb Muller    2.0    G    NaN   \n",
       "1406        1406      Legend Stamps    4.0    C    NaN   \n",
       "1711        1711         Tre Thomas    1.0  NaN    NaN   \n",
       "2592        2592      Julian Poland    NaN  NaN    NaN   \n",
       "3721        3721    Mckinley Harris    3.0  NaN    NaN   \n",
       "3724        3724     Kevin McGaskey    3.0  NaN    NaN   \n",
       "4147        4147     Uchenna Ndigwe    3.0    G    NaN   \n",
       "4547        4547  Montavious Murphy    3.0  NaN    NaN   \n",
       "4548        4548        Cade Walker    1.0  NaN    NaN   \n",
       "4803        4803      Calen Holiday    1.0  NaN    NaN   \n",
       "5169        5169      Milos Merrick    1.0    G    NaN   \n",
       "\n",
       "                        Team  Season  \n",
       "245      arkansas-pine-bluff    2023  \n",
       "583                 cal-poly    2023  \n",
       "1395              florida-am    2023  \n",
       "1403              florida-am    2023  \n",
       "1406              florida-am    2023  \n",
       "1711                 hampton    2023  \n",
       "2592  maryland-eastern-shore    2023  \n",
       "3721            prairie-view    2023  \n",
       "3724            prairie-view    2023  \n",
       "4147          san-jose-state    2023  \n",
       "4547        stephen-f-austin    2023  \n",
       "4548        stephen-f-austin    2023  \n",
       "4803          texas-southern    2023  \n",
       "5169           texas-el-paso    2023  "
      ]
     },
     "execution_count": 63,
     "metadata": {},
     "output_type": "execute_result"
    }
   ],
   "source": [
    "rdf[rdf['Height'].isna()]"
   ]
  },
  {
   "cell_type": "code",
   "execution_count": 48,
   "id": "a94a3f8f-c013-4cb6-a89a-0c2b5879d178",
   "metadata": {},
   "outputs": [
    {
     "ename": "ValueError",
     "evalue": "Cannot mask with non-boolean array containing NA / NaN values",
     "output_type": "error",
     "traceback": [
      "\u001b[0;31m---------------------------------------------------------------------------\u001b[0m",
      "\u001b[0;31mValueError\u001b[0m                                Traceback (most recent call last)",
      "\u001b[0;32m<ipython-input-48-b86b7992a4ab>\u001b[0m in \u001b[0;36m<module>\u001b[0;34m\u001b[0m\n\u001b[0;32m----> 1\u001b[0;31m \u001b[0mrdf\u001b[0m\u001b[0;34m[\u001b[0m\u001b[0mrdf\u001b[0m\u001b[0;34m[\u001b[0m\u001b[0;34m'Height'\u001b[0m\u001b[0;34m]\u001b[0m\u001b[0;34m.\u001b[0m\u001b[0mstr\u001b[0m\u001b[0;34m.\u001b[0m\u001b[0mcontains\u001b[0m\u001b[0;34m(\u001b[0m\u001b[0;34m\".\"\u001b[0m\u001b[0;34m)\u001b[0m\u001b[0;34m]\u001b[0m\u001b[0;34m.\u001b[0m\u001b[0mshape\u001b[0m\u001b[0;34m\u001b[0m\u001b[0;34m\u001b[0m\u001b[0m\n\u001b[0m",
      "\u001b[0;32m/opt/anaconda3/lib/python3.8/site-packages/pandas/core/frame.py\u001b[0m in \u001b[0;36m__getitem__\u001b[0;34m(self, key)\u001b[0m\n\u001b[1;32m   2788\u001b[0m \u001b[0;34m\u001b[0m\u001b[0m\n\u001b[1;32m   2789\u001b[0m         \u001b[0;31m# Do we have a (boolean) 1d indexer?\u001b[0m\u001b[0;34m\u001b[0m\u001b[0;34m\u001b[0m\u001b[0;34m\u001b[0m\u001b[0m\n\u001b[0;32m-> 2790\u001b[0;31m         \u001b[0;32mif\u001b[0m \u001b[0mcom\u001b[0m\u001b[0;34m.\u001b[0m\u001b[0mis_bool_indexer\u001b[0m\u001b[0;34m(\u001b[0m\u001b[0mkey\u001b[0m\u001b[0;34m)\u001b[0m\u001b[0;34m:\u001b[0m\u001b[0;34m\u001b[0m\u001b[0;34m\u001b[0m\u001b[0m\n\u001b[0m\u001b[1;32m   2791\u001b[0m             \u001b[0;32mreturn\u001b[0m \u001b[0mself\u001b[0m\u001b[0;34m.\u001b[0m\u001b[0m_getitem_bool_array\u001b[0m\u001b[0;34m(\u001b[0m\u001b[0mkey\u001b[0m\u001b[0;34m)\u001b[0m\u001b[0;34m\u001b[0m\u001b[0;34m\u001b[0m\u001b[0m\n\u001b[1;32m   2792\u001b[0m \u001b[0;34m\u001b[0m\u001b[0m\n",
      "\u001b[0;32m/opt/anaconda3/lib/python3.8/site-packages/pandas/core/common.py\u001b[0m in \u001b[0;36mis_bool_indexer\u001b[0;34m(key)\u001b[0m\n\u001b[1;32m    134\u001b[0m                 \u001b[0mna_msg\u001b[0m \u001b[0;34m=\u001b[0m \u001b[0;34m\"Cannot mask with non-boolean array containing NA / NaN values\"\u001b[0m\u001b[0;34m\u001b[0m\u001b[0;34m\u001b[0m\u001b[0m\n\u001b[1;32m    135\u001b[0m                 \u001b[0;32mif\u001b[0m \u001b[0misna\u001b[0m\u001b[0;34m(\u001b[0m\u001b[0mkey\u001b[0m\u001b[0;34m)\u001b[0m\u001b[0;34m.\u001b[0m\u001b[0many\u001b[0m\u001b[0;34m(\u001b[0m\u001b[0;34m)\u001b[0m\u001b[0;34m:\u001b[0m\u001b[0;34m\u001b[0m\u001b[0;34m\u001b[0m\u001b[0m\n\u001b[0;32m--> 136\u001b[0;31m                     \u001b[0;32mraise\u001b[0m \u001b[0mValueError\u001b[0m\u001b[0;34m(\u001b[0m\u001b[0mna_msg\u001b[0m\u001b[0;34m)\u001b[0m\u001b[0;34m\u001b[0m\u001b[0;34m\u001b[0m\u001b[0m\n\u001b[0m\u001b[1;32m    137\u001b[0m                 \u001b[0;32mreturn\u001b[0m \u001b[0;32mFalse\u001b[0m\u001b[0;34m\u001b[0m\u001b[0;34m\u001b[0m\u001b[0m\n\u001b[1;32m    138\u001b[0m             \u001b[0;32mreturn\u001b[0m \u001b[0;32mTrue\u001b[0m\u001b[0;34m\u001b[0m\u001b[0;34m\u001b[0m\u001b[0m\n",
      "\u001b[0;31mValueError\u001b[0m: Cannot mask with non-boolean array containing NA / NaN values"
     ]
    }
   ],
   "source": [
    "rdf[rdf['Height'].str.contains(\".\")].shape"
   ]
  },
  {
   "cell_type": "code",
   "execution_count": null,
   "id": "b6fbaef5-51dc-45ab-9d1e-d9e7c1b2d497",
   "metadata": {},
   "outputs": [],
   "source": [
    "row['Hf'] = int(row['Height'][0])\n",
    "row['Hi'] = int(row['Height'][1:].replace(\"-\", \"\"))"
   ]
  },
  {
   "cell_type": "markdown",
   "id": "93a6a229-b797-4a67-a0f9-2c9a22008ab3",
   "metadata": {},
   "source": [
    "Previous years for comaprison"
   ]
  },
  {
   "cell_type": "code",
   "execution_count": 68,
   "id": "4114b621-54ab-4a52-b82a-8cd934da167c",
   "metadata": {},
   "outputs": [
    {
     "name": "stdout",
     "output_type": "stream",
     "text": [
      "/Users/sean/Documents/bracket_buster/bracket_buster_v2.0/0_scraped_data/roster_2021_data.csv\n"
     ]
    }
   ],
   "source": [
    "season = 2021\n",
    "filename = f\"roster_{season}_data.csv\"\n",
    "data_dir = \"0_scraped_data/\"\n",
    "file_path = os.path.join(source_dir, data_dir, filename)\n",
    "print(file_path)"
   ]
  },
  {
   "cell_type": "code",
   "execution_count": 69,
   "id": "ceaa1f6f-ac90-4d8b-bb62-060069417c74",
   "metadata": {},
   "outputs": [],
   "source": [
    "rdf_ = pd.read_csv(file_path)"
   ]
  },
  {
   "cell_type": "code",
   "execution_count": 70,
   "id": "a58d8127-6637-4065-9993-af58312f56e6",
   "metadata": {},
   "outputs": [
    {
     "data": {
      "text/html": [
       "<div>\n",
       "<style scoped>\n",
       "    .dataframe tbody tr th:only-of-type {\n",
       "        vertical-align: middle;\n",
       "    }\n",
       "\n",
       "    .dataframe tbody tr th {\n",
       "        vertical-align: top;\n",
       "    }\n",
       "\n",
       "    .dataframe thead th {\n",
       "        text-align: right;\n",
       "    }\n",
       "</style>\n",
       "<table border=\"1\" class=\"dataframe\">\n",
       "  <thead>\n",
       "    <tr style=\"text-align: right;\">\n",
       "      <th></th>\n",
       "      <th>Unnamed: 0</th>\n",
       "      <th>Player</th>\n",
       "      <th>Class</th>\n",
       "      <th>Pos</th>\n",
       "      <th>Height</th>\n",
       "      <th>Team</th>\n",
       "      <th>Season</th>\n",
       "    </tr>\n",
       "  </thead>\n",
       "  <tbody>\n",
       "    <tr>\n",
       "      <th>0</th>\n",
       "      <td>0</td>\n",
       "      <td>Kolton Kohl</td>\n",
       "      <td>4.0</td>\n",
       "      <td>C</td>\n",
       "      <td>7-0</td>\n",
       "      <td>abilene-christian</td>\n",
       "      <td>2021</td>\n",
       "    </tr>\n",
       "    <tr>\n",
       "      <th>1</th>\n",
       "      <td>1</td>\n",
       "      <td>Joe Pleasant</td>\n",
       "      <td>3.0</td>\n",
       "      <td>F</td>\n",
       "      <td>6-8</td>\n",
       "      <td>abilene-christian</td>\n",
       "      <td>2021</td>\n",
       "    </tr>\n",
       "    <tr>\n",
       "      <th>2</th>\n",
       "      <td>2</td>\n",
       "      <td>Coryon Mason</td>\n",
       "      <td>2.0</td>\n",
       "      <td>G</td>\n",
       "      <td>6-0</td>\n",
       "      <td>abilene-christian</td>\n",
       "      <td>2021</td>\n",
       "    </tr>\n",
       "    <tr>\n",
       "      <th>3</th>\n",
       "      <td>3</td>\n",
       "      <td>Clay Gayman</td>\n",
       "      <td>3.0</td>\n",
       "      <td>F</td>\n",
       "      <td>6-6</td>\n",
       "      <td>abilene-christian</td>\n",
       "      <td>2021</td>\n",
       "    </tr>\n",
       "    <tr>\n",
       "      <th>4</th>\n",
       "      <td>4</td>\n",
       "      <td>Airion Simmons</td>\n",
       "      <td>2.0</td>\n",
       "      <td>F</td>\n",
       "      <td>6-5</td>\n",
       "      <td>abilene-christian</td>\n",
       "      <td>2021</td>\n",
       "    </tr>\n",
       "  </tbody>\n",
       "</table>\n",
       "</div>"
      ],
      "text/plain": [
       "   Unnamed: 0          Player  Class Pos Height               Team  Season\n",
       "0           0     Kolton Kohl    4.0   C    7-0  abilene-christian    2021\n",
       "1           1    Joe Pleasant    3.0   F    6-8  abilene-christian    2021\n",
       "2           2    Coryon Mason    2.0   G    6-0  abilene-christian    2021\n",
       "3           3     Clay Gayman    3.0   F    6-6  abilene-christian    2021\n",
       "4           4  Airion Simmons    2.0   F    6-5  abilene-christian    2021"
      ]
     },
     "execution_count": 70,
     "metadata": {},
     "output_type": "execute_result"
    }
   ],
   "source": [
    "rdf_.head()"
   ]
  },
  {
   "cell_type": "code",
   "execution_count": 71,
   "id": "1a6fe440-662f-49a7-a9b6-8de94e1d4f5e",
   "metadata": {},
   "outputs": [
    {
     "name": "stdout",
     "output_type": "stream",
     "text": [
      "<class 'pandas.core.frame.DataFrame'>\n",
      "RangeIndex: 5493 entries, 0 to 5492\n",
      "Data columns (total 7 columns):\n",
      " #   Column      Non-Null Count  Dtype  \n",
      "---  ------      --------------  -----  \n",
      " 0   Unnamed: 0  5493 non-null   int64  \n",
      " 1   Player      5493 non-null   object \n",
      " 2   Class       5168 non-null   float64\n",
      " 3   Pos         5493 non-null   object \n",
      " 4   Height      5490 non-null   object \n",
      " 5   Team        5493 non-null   object \n",
      " 6   Season      5493 non-null   int64  \n",
      "dtypes: float64(1), int64(2), object(4)\n",
      "memory usage: 300.5+ KB\n"
     ]
    }
   ],
   "source": [
    "rdf_.info()"
   ]
  },
  {
   "cell_type": "code",
   "execution_count": 72,
   "id": "01cfdbbf-c07c-4629-ba69-080cbc8c122e",
   "metadata": {},
   "outputs": [
    {
     "data": {
      "text/plain": [
       "(3, 7)"
      ]
     },
     "execution_count": 72,
     "metadata": {},
     "output_type": "execute_result"
    }
   ],
   "source": [
    "rdf_[rdf_['Height'].isna()].shape"
   ]
  },
  {
   "cell_type": "code",
   "execution_count": 73,
   "id": "9c49ec90-8f0d-4430-b9c3-2b8177a73966",
   "metadata": {},
   "outputs": [
    {
     "data": {
      "text/html": [
       "<div>\n",
       "<style scoped>\n",
       "    .dataframe tbody tr th:only-of-type {\n",
       "        vertical-align: middle;\n",
       "    }\n",
       "\n",
       "    .dataframe tbody tr th {\n",
       "        vertical-align: top;\n",
       "    }\n",
       "\n",
       "    .dataframe thead th {\n",
       "        text-align: right;\n",
       "    }\n",
       "</style>\n",
       "<table border=\"1\" class=\"dataframe\">\n",
       "  <thead>\n",
       "    <tr style=\"text-align: right;\">\n",
       "      <th></th>\n",
       "      <th>Unnamed: 0</th>\n",
       "      <th>Player</th>\n",
       "      <th>Class</th>\n",
       "      <th>Pos</th>\n",
       "      <th>Height</th>\n",
       "      <th>Team</th>\n",
       "      <th>Season</th>\n",
       "    </tr>\n",
       "  </thead>\n",
       "  <tbody>\n",
       "    <tr>\n",
       "      <th>1775</th>\n",
       "      <td>1775</td>\n",
       "      <td>McGee Sorion</td>\n",
       "      <td>NaN</td>\n",
       "      <td>G</td>\n",
       "      <td>NaN</td>\n",
       "      <td>grambling</td>\n",
       "      <td>2021</td>\n",
       "    </tr>\n",
       "    <tr>\n",
       "      <th>3700</th>\n",
       "      <td>3700</td>\n",
       "      <td>Lorenz Ross</td>\n",
       "      <td>NaN</td>\n",
       "      <td>G</td>\n",
       "      <td>NaN</td>\n",
       "      <td>oral-roberts</td>\n",
       "      <td>2021</td>\n",
       "    </tr>\n",
       "    <tr>\n",
       "      <th>4917</th>\n",
       "      <td>4917</td>\n",
       "      <td>Ty Larson</td>\n",
       "      <td>NaN</td>\n",
       "      <td>G</td>\n",
       "      <td>NaN</td>\n",
       "      <td>texas-tech</td>\n",
       "      <td>2021</td>\n",
       "    </tr>\n",
       "  </tbody>\n",
       "</table>\n",
       "</div>"
      ],
      "text/plain": [
       "      Unnamed: 0        Player  Class Pos Height          Team  Season\n",
       "1775        1775  McGee Sorion    NaN   G    NaN     grambling    2021\n",
       "3700        3700   Lorenz Ross    NaN   G    NaN  oral-roberts    2021\n",
       "4917        4917     Ty Larson    NaN   G    NaN    texas-tech    2021"
      ]
     },
     "execution_count": 73,
     "metadata": {},
     "output_type": "execute_result"
    }
   ],
   "source": [
    "rdf_[rdf_['Height'].isna()]"
   ]
  },
  {
   "cell_type": "code",
   "execution_count": null,
   "id": "8e4254d3-98a1-4c1c-ad97-b913a7720ce8",
   "metadata": {},
   "outputs": [],
   "source": []
  }
 ],
 "metadata": {
  "kernelspec": {
   "display_name": "Python 3",
   "language": "python",
   "name": "python3"
  },
  "language_info": {
   "codemirror_mode": {
    "name": "ipython",
    "version": 3
   },
   "file_extension": ".py",
   "mimetype": "text/x-python",
   "name": "python",
   "nbconvert_exporter": "python",
   "pygments_lexer": "ipython3",
   "version": "3.8.3"
  }
 },
 "nbformat": 4,
 "nbformat_minor": 5
}
